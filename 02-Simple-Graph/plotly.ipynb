{
 "cells": [
  {
   "cell_type": "markdown",
   "id": "75206ea0-26c8-427d-8526-949b79dcede1",
   "metadata": {},
   "source": [
    "# Plotly Examples"
   ]
  },
  {
   "cell_type": "code",
   "execution_count": 1,
   "id": "63bd8276-af08-4bc3-a8ce-cec3516beec7",
   "metadata": {},
   "outputs": [
    {
     "ename": "ModuleNotFoundError",
     "evalue": "No module named 'plotly'",
     "output_type": "error",
     "traceback": [
      "\u001b[1;31m---------------------------------------------------------------------------\u001b[0m",
      "\u001b[1;31mModuleNotFoundError\u001b[0m                       Traceback (most recent call last)",
      "Cell \u001b[1;32mIn[1], line 1\u001b[0m\n\u001b[1;32m----> 1\u001b[0m \u001b[38;5;28;01mimport\u001b[39;00m \u001b[38;5;21;01mplotly\u001b[39;00m\u001b[38;5;21;01m.\u001b[39;00m\u001b[38;5;21;01mexpress\u001b[39;00m \u001b[38;5;28;01mas\u001b[39;00m \u001b[38;5;21;01mpx\u001b[39;00m\n\u001b[0;32m      3\u001b[0m x \u001b[38;5;241m=\u001b[39m [\u001b[38;5;241m1\u001b[39m,\u001b[38;5;241m2\u001b[39m,\u001b[38;5;241m3\u001b[39m,\u001b[38;5;241m4\u001b[39m,\u001b[38;5;241m5\u001b[39m]\n\u001b[0;32m      4\u001b[0m y \u001b[38;5;241m=\u001b[39m [\u001b[38;5;241m1\u001b[39m,\u001b[38;5;241m3\u001b[39m,\u001b[38;5;241m4\u001b[39m,\u001b[38;5;241m5\u001b[39m,\u001b[38;5;241m6\u001b[39m]\n",
      "\u001b[1;31mModuleNotFoundError\u001b[0m: No module named 'plotly'"
     ]
    }
   ],
   "source": [
    "import plotly.express as px\n",
    "\n",
    "x = [1,2,3,4,5]\n",
    "y = [1,3,4,5,6]\n",
    "fig = px.line( \n",
    "            x = x ,\n",
    "\t\t\ty = y,\n",
    "\t\t\ttitle = 'A simple line graph'\n",
    ")\n",
    "fig.show()\n"
   ]
  },
  {
   "cell_type": "code",
   "execution_count": null,
   "id": "abe0eb19-272d-4a25-8728-6a4bfee7ae8a",
   "metadata": {},
   "outputs": [],
   "source": [
    "import plotly.express as px\n",
    "\n",
    "x = []\n",
    "y = []\n",
    "for i in range(10):\n",
    "    x.append(i)\n",
    "    y.append(pow(i,2))\n",
    "\n",
    "fig = px.line( \n",
    "            x = x ,\n",
    "\t\t\ty = y,\n",
    "\t\t\ttitle = 'A simple function graph'\n",
    ")\n",
    "fig.show()\n"
   ]
  },
  {
   "cell_type": "code",
   "execution_count": null,
   "id": "6be4cdd4-538f-453d-ab40-f1f6b373c3dd",
   "metadata": {},
   "outputs": [],
   "source": [
    "fig.update_layout(\n",
    "  title='A simple function graph with labels',\n",
    "  xaxis_title=\"x\",\n",
    "  yaxis_title=\"x^2\",\n",
    ")\n",
    "fig.show()\n"
   ]
  },
  {
   "cell_type": "code",
   "execution_count": null,
   "id": "1fea1bc0-7044-4931-a846-727743f94ae6",
   "metadata": {},
   "outputs": [],
   "source": [
    "width = 800\n",
    "height = 600\n",
    "fig.update_layout(\n",
    "        title='A simple function graph with labels and specified size',\n",
    "        width=width,\n",
    "        height=height\n",
    ")\n",
    "fig.show()\n"
   ]
  }
 ],
 "metadata": {
  "kernelspec": {
   "display_name": "Python 3 (ipykernel)",
   "language": "python",
   "name": "python3"
  },
  "language_info": {
   "codemirror_mode": {
    "name": "ipython",
    "version": 3
   },
   "file_extension": ".py",
   "mimetype": "text/x-python",
   "name": "python",
   "nbconvert_exporter": "python",
   "pygments_lexer": "ipython3",
   "version": "3.8.16"
  }
 },
 "nbformat": 4,
 "nbformat_minor": 5
}
