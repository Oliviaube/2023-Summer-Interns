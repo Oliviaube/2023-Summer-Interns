{
 "cells": [
  {
   "cell_type": "markdown",
   "id": "4876469c-4da9-46fb-b6ae-21fdd9e289ef",
   "metadata": {},
   "source": [
    "# Average Calc\n",
    "\n",
    "This notebook will take as input a (variable length) list of values from the user.\n",
    "\n",
    "The following should be calculated and clearly displayed:\n",
    "- the number of values supplied\n",
    "- the mean of the values\n",
    "- the standard deviation of the values\n",
    "\n",
    "## Functions to Consider\n",
    "* len(x) - returns the number elements in list *x*\n",
    "* string.split(separator, maxsplit) - splits a string into a list\n",
    "\t* separator - Specifies the separator to use when splitting the string (optional)\n",
    "\t* maxsplit -  Specifies how many splits to do. Default value is -1, which is \"all occurrences\" (optional)\n",
    "* statistics.stdev(x) - returns the standard deviation of the values in *x*, requires `import statistics` prior to using\n"
   ]
  },
  {
   "cell_type": "markdown",
   "id": "c1df1804-ccaf-4a46-b480-40be736c7c12",
   "metadata": {},
   "source": [
    "## Algorithm\n",
    "1. Input a variable list of values\n",
    "2. Calculate the number of values supplied\n",
    "3. Calculate the mean of the values\n",
    "4. Calculate the standard deviation of the values\n",
    "5. Display number of values, mean of values and standard deviation of the values"
   ]
  },
  {
   "cell_type": "markdown",
   "id": "5d45ce5f-111e-437e-8488-36bd3ed250bc",
   "metadata": {},
   "source": [
    "## Program"
   ]
  },
  {
   "cell_type": "markdown",
   "id": "a1c66582-d27e-4e8e-ba00-bbfbe53913da",
   "metadata": {},
   "source": [
    "1. Input a variable list of values"
   ]
  },
  {
   "cell_type": "code",
   "execution_count": 1,
   "id": "aa690ca0-76df-44be-a69d-0b0ffbc6cc09",
   "metadata": {},
   "outputs": [
    {
     "name": "stdin",
     "output_type": "stream",
     "text": [
      "Enter a list of values:  2 5 3 2 4\n"
     ]
    },
    {
     "data": {
      "text/plain": [
       "'You entered [2, 5, 3, 2, 4]'"
      ]
     },
     "execution_count": 1,
     "metadata": {},
     "output_type": "execute_result"
    }
   ],
   "source": [
    "numbers = []\n",
    "values = input(\"Enter a list of values: \")\n",
    "for value in values.split():\n",
    "    numbers.append(int(value))\n",
    "\n",
    "f\"You entered {numbers}\""
   ]
  },
  {
   "cell_type": "markdown",
   "id": "2102f551-2a2d-4523-a998-2b03ec5deb99",
   "metadata": {},
   "source": [
    "2. Calculate the number of values supplied"
   ]
  },
  {
   "cell_type": "code",
   "execution_count": 2,
   "id": "18b09c94-4add-408d-973d-4a8462a4c255",
   "metadata": {},
   "outputs": [
    {
     "data": {
      "text/plain": [
       "'The number of values are 5'"
      ]
     },
     "execution_count": 2,
     "metadata": {},
     "output_type": "execute_result"
    }
   ],
   "source": [
    "num = len(numbers)\n",
    "f\"The number of values are {num}\""
   ]
  },
  {
   "cell_type": "markdown",
   "id": "994c014c-40fc-4463-a684-8e0d2871d171",
   "metadata": {},
   "source": [
    "3. Calculate the mean of the values"
   ]
  },
  {
   "cell_type": "code",
   "execution_count": 3,
   "id": "197f7405-2626-4a6c-be5a-3e970ec9b8a6",
   "metadata": {
    "scrolled": true
   },
   "outputs": [],
   "source": [
    "sum = 0\n",
    "for number in numbers:\n",
    "    sum += int(number)\n",
    "    f\"the total {sum}\""
   ]
  },
  {
   "cell_type": "code",
   "execution_count": 4,
   "id": "c6d74db3-40f8-474a-b078-408b14cb2b24",
   "metadata": {},
   "outputs": [
    {
     "name": "stdout",
     "output_type": "stream",
     "text": [
      "3.2\n"
     ]
    },
    {
     "data": {
      "text/plain": [
       "'The mean of the values are 3.2'"
      ]
     },
     "execution_count": 4,
     "metadata": {},
     "output_type": "execute_result"
    }
   ],
   "source": [
    "mean = sum / num\n",
    "print(mean)\n",
    "f\"The mean of the values are {mean}\""
   ]
  },
  {
   "cell_type": "markdown",
   "id": "02f042ef-9458-4468-be13-b4f2f28ad2b9",
   "metadata": {},
   "source": [
    "4. Calculate the standard deviation of the values"
   ]
  },
  {
   "cell_type": "code",
   "execution_count": 5,
   "id": "928431b0-f974-4e42-9196-6a49d0c9fbb7",
   "metadata": {},
   "outputs": [
    {
     "data": {
      "text/plain": [
       "'The standard deviation is 1.3038404810405297'"
      ]
     },
     "execution_count": 5,
     "metadata": {},
     "output_type": "execute_result"
    }
   ],
   "source": [
    "import statistics\n",
    "sd = statistics.stdev(numbers)\n",
    "f\"The standard deviation is {sd}\""
   ]
  },
  {
   "cell_type": "markdown",
   "id": "4b70f26f-4b83-4e68-8717-8e164446beec",
   "metadata": {},
   "source": [
    "5. Display number of values, mean of values and standard deviation of the values"
   ]
  },
  {
   "cell_type": "code",
   "execution_count": 6,
   "id": "e5a68161-61bf-4c13-b8bc-0a7b25612d1c",
   "metadata": {},
   "outputs": [
    {
     "name": "stdout",
     "output_type": "stream",
     "text": [
      "For the following values [2, 5, 3, 2, 4]\n",
      "The number of values are 5\n",
      "The mean of the values are 3.2\n",
      "The standard deviation is 1.3038404810405297\n"
     ]
    }
   ],
   "source": [
    "print(f\"For the following values {numbers}\")\n",
    "print(f\"The number of values are {num}\")\n",
    "print(f\"The mean of the values are {mean}\")\n",
    "print(f\"The standard deviation is {sd}\")"
   ]
  }
 ],
 "metadata": {
  "kernelspec": {
   "display_name": "Python 3 (ipykernel)",
   "language": "python",
   "name": "python3"
  },
  "language_info": {
   "codemirror_mode": {
    "name": "ipython",
    "version": 3
   },
   "file_extension": ".py",
   "mimetype": "text/x-python",
   "name": "python",
   "nbconvert_exporter": "python",
   "pygments_lexer": "ipython3",
   "version": "3.8.16"
  }
 },
 "nbformat": 4,
 "nbformat_minor": 5
}
