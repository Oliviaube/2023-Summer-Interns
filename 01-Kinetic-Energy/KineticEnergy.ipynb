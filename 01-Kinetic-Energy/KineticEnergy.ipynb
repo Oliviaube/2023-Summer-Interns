{
 "cells": [
  {
   "cell_type": "markdown",
   "id": "8ded568a-833f-4595-96bd-313efc283117",
   "metadata": {},
   "source": [
    "#### I started by converting the weight of the cars from lbs to kg"
   ]
  },
  {
   "cell_type": "code",
   "execution_count": 1,
   "id": "aed5267e-74cb-41d3-a392-a49c073ae095",
   "metadata": {},
   "outputs": [
    {
     "name": "stdout",
     "output_type": "stream",
     "text": [
      "2042.1072\n"
     ]
    }
   ],
   "source": [
    "kia_weight = 4502 * .4536\n",
    "print(f\"{kia_weight}\") #testing\n",
    "ford_weight = 6015 * .4536\n",
    "fiat_weight = 3305 * .4536\n",
    "dodge_weight = 4073 * .4536"
   ]
  },
  {
   "cell_type": "markdown",
   "id": "49eae587-dad3-4966-bf66-490550573510",
   "metadata": {},
   "source": [
    "#### Following that I had to find the velocity. The velocity is different depending on where the cars are being driven (school zones, in towns with no pedestrian traffic, highways)"
   ]
  },
  {
   "cell_type": "code",
   "execution_count": 11,
   "id": "ef086579-b4dc-42ce-9e7f-6b1e6bc0f5f4",
   "metadata": {},
   "outputs": [
    {
     "name": "stdout",
     "output_type": "stream",
     "text": [
      "33.557046979865774\n"
     ]
    }
   ],
   "source": [
    "school_zones_velocity = (15.0 / .4470) #doing ** is the same as ^\n",
    "print(school_zones_velocity)\n",
    "town_velocity = (45.0 / .4470)\n",
    "highways_velocity = (65.0 / .4470)"
   ]
  },
  {
   "cell_type": "markdown",
   "id": "184ad6d5-e763-4ca7-a54f-ae1b06abb038",
   "metadata": {},
   "source": [
    "#### The next step was to calculate the kinetic energy for each car. Here I will split my work into three different sections according to the car"
   ]
  },
  {
   "cell_type": "markdown",
   "id": "0aea2bd3-f909-488f-84ac-9f0909219250",
   "metadata": {},
   "source": [
    "##### Kia Calculations"
   ]
  },
  {
   "cell_type": "code",
   "execution_count": 3,
   "id": "33e671f1-89e9-443d-b66d-3add42f6164a",
   "metadata": {},
   "outputs": [
    {
     "name": "stdout",
     "output_type": "stream",
     "text": [
      "1149783.3430926537\n"
     ]
    }
   ],
   "source": [
    "kia_ke1 = (kia_weight * 1/2) * (school_zones_velocity)**2 #doing ** is the same as ^\n",
    "print(kia_ke1) #testing\n",
    "kia_ke2 = (kia_weight * 1/2) * (town_velocity)**2\n",
    "kia_ke3 = (kia_weight * 1/2) * (highways_velocity)**2"
   ]
  },
  {
   "cell_type": "markdown",
   "id": "592d045a-d460-4803-8bcc-db50c1d9317e",
   "metadata": {},
   "source": [
    "##### Ford Calculations"
   ]
  },
  {
   "cell_type": "code",
   "execution_count": 4,
   "id": "7c92116c-fa70-43a9-a076-48efaaeea229",
   "metadata": {},
   "outputs": [],
   "source": [
    "ford_ke1 = (ford_weight * 1/2) * (school_zones_velocity)**2\n",
    "ford_ke2 = (ford_weight * 1/2) * (town_velocity)**2\n",
    "ford_ke3 = (ford_weight * 1/2) * (highways_velocity)**2"
   ]
  },
  {
   "cell_type": "markdown",
   "id": "b562e8d2-f7f5-458f-9f54-eb48189d2be9",
   "metadata": {},
   "source": [
    "##### Fiat Calculations"
   ]
  },
  {
   "cell_type": "code",
   "execution_count": 5,
   "id": "8a699157-edfe-49b7-8ec3-bdbef264084b",
   "metadata": {},
   "outputs": [],
   "source": [
    "fiat_ke1 = (fiat_weight * 1/2) * (school_zones_velocity)**2\n",
    "fiat_ke2 = (fiat_weight * 1/2) * (town_velocity)**2\n",
    "fiat_ke3 = (fiat_weight * 1/2) * (highways_velocity)**2"
   ]
  },
  {
   "cell_type": "markdown",
   "id": "1b1c883e-5239-47c5-840f-9282708b28ba",
   "metadata": {},
   "source": [
    "##### Dodge Calculations"
   ]
  },
  {
   "cell_type": "code",
   "execution_count": 6,
   "id": "914034c4-cca1-4d3a-9a96-8362601a943d",
   "metadata": {},
   "outputs": [],
   "source": [
    "dodge_ke1 = (dodge_weight * 1/2) * (school_zones_velocity)**2\n",
    "dodge_ke2 = (dodge_weight * 1/2)  * (town_velocity)**2\n",
    "dodge_ke3 = (dodge_weight * 1/2) * (highways_velocity)**2"
   ]
  },
  {
   "cell_type": "markdown",
   "id": "e221ca84-51cf-4e93-af56-ce57661cc797",
   "metadata": {},
   "source": [
    "#### Here is my table which represents all of the information above"
   ]
  },
  {
   "cell_type": "code",
   "execution_count": 10,
   "id": "b887298e-71f8-41f5-aec5-bb06adcc3b1d",
   "metadata": {},
   "outputs": [
    {
     "name": "stdout",
     "output_type": "stream",
     "text": [
      "VEHICLE TYPE              SCHOOL ZONE     IN TOWNS W/ NO PEDESTRIAN TRAFFIC        HIGHWAYS\n",
      "\n",
      "Kia EV6                   1,149,783.34              10,348,050.09                21,590,376.11\n",
      "Ford F-150 Lightning      1,536,194.32              13,825,748.84                28,846,315.48\n",
      "Fiat 500 Pop X AWD        844,076.84                7,596,691.59                 15,849,887.39\n",
      "Dodge Charger GT RWD      1,040,219.36              9,361,974.24                 19,533,007.97\n"
     ]
    }
   ],
   "source": [
    "print(f\"VEHICLE TYPE              SCHOOL ZONE     IN TOWNS W/ NO PEDESTRIAN TRAFFIC        HIGHWAYS\")\n",
    "print()\n",
    "print(f\"Kia EV6                   {kia_ke1:10,.2f}              {kia_ke2:10,.2f}                {kia_ke3:10,.2f}\")\n",
    "print(f\"Ford F-150 Lightning      {ford_ke1:10,.2f}              {ford_ke2:10,.2f}                {ford_ke3:10,.2f}\")\n",
    "print(f\"Fiat 500 Pop X AWD        {fiat_ke1:10,.2f}                {fiat_ke2:10,.2f}                 {fiat_ke3:10,.2f}\")\n",
    "print(f\"Dodge Charger GT RWD      {dodge_ke1:10,.2f}              {dodge_ke2:10,.2f}                 {dodge_ke3:10,.2f}\")"
   ]
  },
  {
   "cell_type": "code",
   "execution_count": null,
   "id": "c0b37af0-85aa-4a73-bd7c-8bff4ef0621f",
   "metadata": {},
   "outputs": [],
   "source": []
  }
 ],
 "metadata": {
  "kernelspec": {
   "display_name": "Python 3 (ipykernel)",
   "language": "python",
   "name": "python3"
  },
  "language_info": {
   "codemirror_mode": {
    "name": "ipython",
    "version": 3
   },
   "file_extension": ".py",
   "mimetype": "text/x-python",
   "name": "python",
   "nbconvert_exporter": "python",
   "pygments_lexer": "ipython3",
   "version": "3.8.16"
  }
 },
 "nbformat": 4,
 "nbformat_minor": 5
}
