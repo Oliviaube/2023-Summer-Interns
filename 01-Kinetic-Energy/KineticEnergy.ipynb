{
 "cells": [
  {
   "cell_type": "markdown",
   "id": "ca49724e-ffd7-4544-b4ae-4e2e8c724fd7",
   "metadata": {},
   "source": [
    "# 01-Kinetic-Energy\n",
    "In this experiment we will explore the concept of kinetic energy. This is a form of energy due to its motion."
   ]
  },
  {
   "cell_type": "markdown",
   "id": "b72cc22e-1126-48b8-b9f4-ca2596c6d8a6",
   "metadata": {},
   "source": [
    "## Functions to Consider\n",
    "- pounds to kilograms - lbs * .4536\n",
    "- \n",
    "miles per hour to meters/second - mph * .447\n",
    "- kinetic_energy = 1/2 * mass * velocity^20"
   ]
  },
  {
   "cell_type": "markdown",
   "id": "fbe01308-4910-4f89-9ed1-2da48d12275b",
   "metadata": {},
   "source": [
    "## Algorithm\n",
    "1. Converting the weight of the cars from pounds to kilograms\n",
    "2. Find the velocity based on location\n",
    "3. Calculate the kinetic energy for each car\n",
    "4. Display the kinetic energy for each car by means of a table"
   ]
  },
  {
   "cell_type": "markdown",
   "id": "435ed9fd-a3bb-4057-998b-ae67c6123f8f",
   "metadata": {},
   "source": [
    "## Program"
   ]
  },
  {
   "cell_type": "markdown",
   "id": "8ded568a-833f-4595-96bd-313efc283117",
   "metadata": {},
   "source": [
    "1. Converting the weight of the cars from pounds to kilograms"
   ]
  },
  {
   "cell_type": "code",
   "execution_count": 1,
   "id": "aed5267e-74cb-41d3-a392-a49c073ae095",
   "metadata": {},
   "outputs": [
    {
     "name": "stdout",
     "output_type": "stream",
     "text": [
      "2042.1072\n"
     ]
    }
   ],
   "source": [
    "kia_weight = 4502 * .4536\n",
    "print(f\"{kia_weight}\") #testing\n",
    "ford_weight = 6015 * .4536\n",
    "fiat_weight = 3305 * .4536\n",
    "dodge_weight = 4073 * .4536"
   ]
  },
  {
   "cell_type": "markdown",
   "id": "49eae587-dad3-4966-bf66-490550573510",
   "metadata": {},
   "source": [
    "2. Find the velocity based on location"
   ]
  },
  {
   "cell_type": "code",
   "execution_count": 2,
   "id": "ef086579-b4dc-42ce-9e7f-6b1e6bc0f5f4",
   "metadata": {},
   "outputs": [
    {
     "name": "stdout",
     "output_type": "stream",
     "text": [
      "33.557046979865774\n"
     ]
    }
   ],
   "source": [
    "school_zones_velocity = (15.0 / .4470) #doing ** is the same as ^\n",
    "print(school_zones_velocity)\n",
    "town_velocity = (45.0 / .4470)\n",
    "highways_velocity = (65.0 / .4470)"
   ]
  },
  {
   "cell_type": "markdown",
   "id": "184ad6d5-e763-4ca7-a54f-ae1b06abb038",
   "metadata": {},
   "source": [
    "3. Calculate the kinetic energy for each car"
   ]
  },
  {
   "cell_type": "markdown",
   "id": "0aea2bd3-f909-488f-84ac-9f0909219250",
   "metadata": {},
   "source": [
    "Kia Calculations"
   ]
  },
  {
   "cell_type": "code",
   "execution_count": 3,
   "id": "33e671f1-89e9-443d-b66d-3add42f6164a",
   "metadata": {},
   "outputs": [
    {
     "name": "stdout",
     "output_type": "stream",
     "text": [
      "1149783.3430926537\n"
     ]
    }
   ],
   "source": [
    "kia_ke1 = (kia_weight * 1/2) * (school_zones_velocity)**2 #doing ** is the same as ^\n",
    "print(kia_ke1) #testing\n",
    "kia_ke2 = (kia_weight * 1/2) * (town_velocity)**2\n",
    "kia_ke3 = (kia_weight * 1/2) * (highways_velocity)**2"
   ]
  },
  {
   "cell_type": "markdown",
   "id": "592d045a-d460-4803-8bcc-db50c1d9317e",
   "metadata": {},
   "source": [
    "Ford Calculations"
   ]
  },
  {
   "cell_type": "code",
   "execution_count": 4,
   "id": "7c92116c-fa70-43a9-a076-48efaaeea229",
   "metadata": {},
   "outputs": [],
   "source": [
    "ford_ke1 = (ford_weight * 1/2) * (school_zones_velocity)**2\n",
    "ford_ke2 = (ford_weight * 1/2) * (town_velocity)**2\n",
    "ford_ke3 = (ford_weight * 1/2) * (highways_velocity)**2"
   ]
  },
  {
   "cell_type": "markdown",
   "id": "b562e8d2-f7f5-458f-9f54-eb48189d2be9",
   "metadata": {},
   "source": [
    "Fiat Calculations"
   ]
  },
  {
   "cell_type": "code",
   "execution_count": 5,
   "id": "8a699157-edfe-49b7-8ec3-bdbef264084b",
   "metadata": {},
   "outputs": [],
   "source": [
    "fiat_ke1 = (fiat_weight * 1/2) * (school_zones_velocity)**2\n",
    "fiat_ke2 = (fiat_weight * 1/2) * (town_velocity)**2\n",
    "fiat_ke3 = (fiat_weight * 1/2) * (highways_velocity)**2"
   ]
  },
  {
   "cell_type": "markdown",
   "id": "1b1c883e-5239-47c5-840f-9282708b28ba",
   "metadata": {},
   "source": [
    "Dodge Calculations"
   ]
  },
  {
   "cell_type": "code",
   "execution_count": 6,
   "id": "914034c4-cca1-4d3a-9a96-8362601a943d",
   "metadata": {},
   "outputs": [],
   "source": [
    "dodge_ke1 = (dodge_weight * 1/2) * (school_zones_velocity)**2\n",
    "dodge_ke2 = (dodge_weight * 1/2)  * (town_velocity)**2\n",
    "dodge_ke3 = (dodge_weight * 1/2) * (highways_velocity)**2"
   ]
  },
  {
   "cell_type": "markdown",
   "id": "e221ca84-51cf-4e93-af56-ce57661cc797",
   "metadata": {},
   "source": [
    "4. Display the kinetic energy for each car by means of a table"
   ]
  },
  {
   "cell_type": "code",
   "execution_count": 7,
   "id": "b887298e-71f8-41f5-aec5-bb06adcc3b1d",
   "metadata": {},
   "outputs": [
    {
     "name": "stdout",
     "output_type": "stream",
     "text": [
      "VEHICLE TYPE              SCHOOL ZONE     IN TOWNS W/ NO PEDESTRIAN TRAFFIC        HIGHWAYS\n",
      "\n",
      "Kia EV6                   1,149,783.34              10,348,050.09                21,590,376.11\n",
      "Ford F-150 Lightning      1,536,194.32              13,825,748.84                28,846,315.48\n",
      "Fiat 500 Pop X AWD        844,076.84                7,596,691.59                 15,849,887.39\n",
      "Dodge Charger GT RWD      1,040,219.36              9,361,974.24                 19,533,007.97\n",
      "\n",
      "When you do 02 and 03 make sure you switch the spots of your data (put the type of cars on the top instead of the locations)\n"
     ]
    }
   ],
   "source": [
    "print(f\"VEHICLE TYPE              SCHOOL ZONE     IN TOWNS W/ NO PEDESTRIAN TRAFFIC        HIGHWAYS\")\n",
    "print()\n",
    "print(f\"Kia EV6                   {kia_ke1:10,.2f}              {kia_ke2:10,.2f}                {kia_ke3:10,.2f}\")\n",
    "print(f\"Ford F-150 Lightning      {ford_ke1:10,.2f}              {ford_ke2:10,.2f}                {ford_ke3:10,.2f}\")\n",
    "print(f\"Fiat 500 Pop X AWD        {fiat_ke1:10,.2f}                {fiat_ke2:10,.2f}                 {fiat_ke3:10,.2f}\")\n",
    "print(f\"Dodge Charger GT RWD      {dodge_ke1:10,.2f}              {dodge_ke2:10,.2f}                 {dodge_ke3:10,.2f}\")\n",
    "\n",
    "print()\n",
    "print(\"When you do 02 and 03 make sure you switch the spots of your data (put the type of cars on the top instead of the locations)\")\n",
    "# print \"speeds  KIA  FORD  DODGE  FIAT\"\n",
    "# print \"school {KIA} {FORD} {DODGE} {FIAT}\""
   ]
  },
  {
   "cell_type": "markdown",
   "id": "dda77035-a5d6-4eed-becc-fabf6318c203",
   "metadata": {},
   "source": [
    "## Summary"
   ]
  },
  {
   "cell_type": "markdown",
   "id": "06026104-f632-4e1f-86c7-a76a8855aac2",
   "metadata": {},
   "source": [
    "I learned the following from this assignment:\n",
    "1. How to display my calculations in an efficient matter using a new command I learned (variable:10,.2f).\n",
    "2. How to not only make my code visually appealing but replicate a real notebook in the way I set my data up.\n",
    "3. How to use JupyterLab correctly, separating each type of code into different cells rather than putting all of it into one."
   ]
  }
 ],
 "metadata": {
  "kernelspec": {
   "display_name": "Python 3 (ipykernel)",
   "language": "python",
   "name": "python3"
  },
  "language_info": {
   "codemirror_mode": {
    "name": "ipython",
    "version": 3
   },
   "file_extension": ".py",
   "mimetype": "text/x-python",
   "name": "python",
   "nbconvert_exporter": "python",
   "pygments_lexer": "ipython3",
   "version": "3.8.16"
  }
 },
 "nbformat": 4,
 "nbformat_minor": 5
}
