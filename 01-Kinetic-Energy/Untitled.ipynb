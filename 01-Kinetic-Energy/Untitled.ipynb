{
 "cells": [
  {
   "cell_type": "markdown",
   "id": "8ded568a-833f-4595-96bd-313efc283117",
   "metadata": {},
   "source": [
    "#### I started by converting the weight of the cars from lbs to kg"
   ]
  },
  {
   "cell_type": "code",
   "execution_count": 1,
   "id": "aed5267e-74cb-41d3-a392-a49c073ae095",
   "metadata": {},
   "outputs": [
    {
     "name": "stdout",
     "output_type": "stream",
     "text": [
      "9925.044091710759\n"
     ]
    }
   ],
   "source": [
    "kia_weight = 4502 / .4536\n",
    "print(f\"{kia_weight}\") #testing\n",
    "ford_weight = 6015 / .4536\n",
    "fiat_weight = 3305 / .4536\n",
    "dodge_weight = 4073 / .4536"
   ]
  },
  {
   "cell_type": "markdown",
   "id": "49eae587-dad3-4966-bf66-490550573510",
   "metadata": {},
   "source": [
    "#### Following that I had to find the velocity. The velocity is different depending on where the cars are being driven (school zones, in towns with no pedestrian traffic, highways)"
   ]
  },
  {
   "cell_type": "code",
   "execution_count": 7,
   "id": "ef086579-b4dc-42ce-9e7f-6b1e6bc0f5f4",
   "metadata": {},
   "outputs": [
    {
     "name": "stdout",
     "output_type": "stream",
     "text": [
      "1126.0754020089187\n"
     ]
    }
   ],
   "source": [
    "school_zones_velocity = (15.0 / .4470)**2 #doing ** is the same as ^\n",
    "print(school_zones_velocity)\n",
    "town_velocity = (45.0 / .4470)**2\n",
    "highways_velocity = (65.0 / .4470)**2"
   ]
  },
  {
   "cell_type": "markdown",
   "id": "184ad6d5-e763-4ca7-a54f-ae1b06abb038",
   "metadata": {},
   "source": [
    "#### The next step was to calculate the kinetic energy for each car. Here I will split my work into three different sections according to the car"
   ]
  },
  {
   "cell_type": "markdown",
   "id": "0aea2bd3-f909-488f-84ac-9f0909219250",
   "metadata": {},
   "source": [
    "##### Kia Calculations"
   ]
  },
  {
   "cell_type": "code",
   "execution_count": 8,
   "id": "33e671f1-89e9-443d-b66d-3add42f6164a",
   "metadata": {},
   "outputs": [
    {
     "name": "stdout",
     "output_type": "stream",
     "text": [
      "5588174.007764718\n"
     ]
    }
   ],
   "source": [
    "kia_ke1 = kia_weight * school_zones_velocity * 1/2\n",
    "print(kia_ke) #testing\n",
    "kia_ke2 = kia_weight * town_velocity * 1/2\n",
    "kia_ke3 = kia_weight * highways_velocity * 1/2"
   ]
  },
  {
   "cell_type": "markdown",
   "id": "592d045a-d460-4803-8bcc-db50c1d9317e",
   "metadata": {},
   "source": [
    "##### Ford Calculations"
   ]
  },
  {
   "cell_type": "code",
   "execution_count": null,
   "id": "7c92116c-fa70-43a9-a076-48efaaeea229",
   "metadata": {},
   "outputs": [],
   "source": [
    "ford_ke1 = ford_weight * school_zones_velocity * 1/2\n",
    "ford_ke2 = ford_weight * town_velocity * 1/2\n",
    "ford_ke3 = ford_weight * highways_velocity * 1/2"
   ]
  },
  {
   "cell_type": "markdown",
   "id": "b562e8d2-f7f5-458f-9f54-eb48189d2be9",
   "metadata": {},
   "source": [
    "##### Fiat Calculations"
   ]
  },
  {
   "cell_type": "code",
   "execution_count": null,
   "id": "8a699157-edfe-49b7-8ec3-bdbef264084b",
   "metadata": {},
   "outputs": [],
   "source": [
    "fiat_ke1 = fiat_weight * school_zones_velocity * 1/2\n",
    "fiat_ke2 = fiat_weight * town_velocity * 1/2\n",
    "fiat_ke3 = fiat_weight * highways_velocity * 1/2"
   ]
  },
  {
   "cell_type": "markdown",
   "id": "1b1c883e-5239-47c5-840f-9282708b28ba",
   "metadata": {},
   "source": [
    "##### Dodge Calculations"
   ]
  },
  {
   "cell_type": "code",
   "execution_count": null,
   "id": "914034c4-cca1-4d3a-9a96-8362601a943d",
   "metadata": {},
   "outputs": [],
   "source": [
    "dodge_ke1 = dodge_weight * school_zones_velocity * 1/2\n",
    "dodge_ke2 = dodge_weight * town_velocity * 1/2\n",
    "dodge_ke3 = dodge_weight * highways_velocity * 1/2"
   ]
  },
  {
   "cell_type": "markdown",
   "id": "e221ca84-51cf-4e93-af56-ce57661cc797",
   "metadata": {},
   "source": [
    "#### Here is my table which represents all of the information above"
   ]
  },
  {
   "cell_type": "code",
   "execution_count": 17,
   "id": "d9ea480c-9a12-4f22-96b7-6e5e64ff022e",
   "metadata": {},
   "outputs": [
    {
     "name": "stdout",
     "output_type": "stream",
     "text": [
      "VEHICLE TYPE           SCHOOL ZONE                 IN TOWNS W/ NO PEDESTRIAN TRAFFIC         HIGHWAYS\n"
     ]
    }
   ],
   "source": [
    "print(f\"VEHICLE TYPE           SCHOOL ZONE                 IN TOWNS W/ NO PEDESTRIAN TRAFFIC         HIGHWAYS\")"
   ]
  },
  {
   "cell_type": "code",
   "execution_count": 18,
   "id": "b887298e-71f8-41f5-aec5-bb06adcc3b1d",
   "metadata": {},
   "outputs": [
    {
     "ename": "SyntaxError",
     "evalue": "invalid syntax (3425165829.py, line 1)",
     "output_type": "error",
     "traceback": [
      "\u001b[1;36m  Cell \u001b[1;32mIn[18], line 1\u001b[1;36m\u001b[0m\n\u001b[1;33m    print(f\"Kia EV6\", {kia_ke1:10,.2f}, {kia_ke2:10,.2f}, {kia_ke3:10,.2f})\u001b[0m\n\u001b[1;37m                                    ^\u001b[0m\n\u001b[1;31mSyntaxError\u001b[0m\u001b[1;31m:\u001b[0m invalid syntax\n"
     ]
    }
   ],
   "source": [
    "print(f\"Kia EV6\", {kia_ke1:10,.2f}, {kia_ke2:10,.2f}, {kia_ke3:10,.2f})"
   ]
  },
  {
   "cell_type": "code",
   "execution_count": null,
   "id": "1b874b73-1ebb-418c-b5b8-0a41475052af",
   "metadata": {},
   "outputs": [],
   "source": [
    "print(f\"Ford F-150 Lightning\", {ford_ke1:10,.2f}, {ford_ke2:10,.2f}, {ford_ke3:10,.2f})"
   ]
  },
  {
   "cell_type": "code",
   "execution_count": null,
   "id": "6458fd2f-9984-49f0-9c6f-620fce737d2e",
   "metadata": {},
   "outputs": [],
   "source": [
    "print(f\"Fiat 500 Pop X AWD\", {fiat_ke1:10,.2f}, {fiat_ke2:10,.2f}, {fiat_ke3:10,.2f})"
   ]
  },
  {
   "cell_type": "code",
   "execution_count": 19,
   "id": "d4bb0d45-aea2-434a-ab74-58de09467d0d",
   "metadata": {},
   "outputs": [
    {
     "ename": "SyntaxError",
     "evalue": "invalid syntax (3454572397.py, line 1)",
     "output_type": "error",
     "traceback": [
      "\u001b[1;36m  Cell \u001b[1;32mIn[19], line 1\u001b[1;36m\u001b[0m\n\u001b[1;33m    print(f\"Dodge Charger GT RWD\", {dodge_ke1:10,.2f}, {dodge_ke2:10,.2f}, {dodge_ke3:10,.2f})\u001b[0m\n\u001b[1;37m                                                   ^\u001b[0m\n\u001b[1;31mSyntaxError\u001b[0m\u001b[1;31m:\u001b[0m invalid syntax\n"
     ]
    }
   ],
   "source": [
    "print(f\"Dodge Charger GT RWD\", {dodge_ke1:10,.2f}, {dodge_ke2:10,.2f}, {dodge_ke3:10,.2f})"
   ]
  },
  {
   "cell_type": "markdown",
   "id": "87520af2-af98-440d-946b-128576fc1c01",
   "metadata": {},
   "source": [
    "##### I am going to ask what is wrong when class starts"
   ]
  }
 ],
 "metadata": {
  "kernelspec": {
   "display_name": "Python 3 (ipykernel)",
   "language": "python",
   "name": "python3"
  },
  "language_info": {
   "codemirror_mode": {
    "name": "ipython",
    "version": 3
   },
   "file_extension": ".py",
   "mimetype": "text/x-python",
   "name": "python",
   "nbconvert_exporter": "python",
   "pygments_lexer": "ipython3",
   "version": "3.8.16"
  }
 },
 "nbformat": 4,
 "nbformat_minor": 5
}
