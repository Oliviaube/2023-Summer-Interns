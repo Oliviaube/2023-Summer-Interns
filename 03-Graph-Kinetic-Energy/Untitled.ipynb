{
 "cells": [
  {
   "cell_type": "markdown",
   "id": "3ca6249a-8e37-4fd4-8c9d-939ba2b88d2c",
   "metadata": {},
   "source": [
    "# 03-Graph-Kinetic-Energy\n",
    "Using the data calculated from Kinetic-Energy, create a plot which uses a dataframe to plot the data. While getting the data into a dataframe is more complex than a series of lists, this complexity pays off with an ease of printing and plotting the dataframe.\r\n",
    "\r\n",
    "We'll also use dataframes to plot more complex and detailed data from other projects. This assignment will get us started and make some room for experimentation with graphing using python libraries."
   ]
  },
  {
   "cell_type": "markdown",
   "id": "bc3d8240-8b68-4dd0-8d8b-fb8981b6e9f7",
   "metadata": {},
   "source": [
    "## Functions to Consider\n",
    "- import pandas as pd\n",
    "- df = pd.DataFrame(table)\n",
    "- pd.set_option('float_format', '{:,.2f}'.format)\r\n",
    " display(df\n",
    "- fig = px.line(df, x='Speeds(mph)', y=['Kia', 'Ford', \"Fiat\", \"Dodge\"]))"
   ]
  },
  {
   "cell_type": "markdown",
   "id": "de3d6f97-abb3-4ce3-96d0-662fc9719f7c",
   "metadata": {},
   "source": [
    "## Algorithm\n",
    "1. Creating a list for each category on the table\n",
    "2. Create a table to represent the data\n",
    "3. Index the list\n",
    "4. Calculate the speed that each car is traveling in each location"
   ]
  },
  {
   "cell_type": "markdown",
   "id": "750f7930-52e9-4f8a-b900-19e29dc82f59",
   "metadata": {},
   "source": [
    "## Program"
   ]
  },
  {
   "cell_type": "markdown",
   "id": "d7de7605-e2f6-4733-b03e-17f9cdc0137d",
   "metadata": {},
   "source": [
    "1. Creating a list for each category on the table"
   ]
  },
  {
   "cell_type": "code",
   "execution_count": 1,
   "id": "72606c6f-a1fd-477f-a154-3aff4917a554",
   "metadata": {},
   "outputs": [],
   "source": [
    "import pandas as pd\n",
    "masses = [4502, 6015, 3305, 4073]\n",
    "cars = [\"Kia\", \"Ford\", \"Fiat\", \"Dodge\"]\n",
    "speeds = [15, 45, 65]\n",
    "\n",
    "#put all your information from the last project into a list and then you're going to calculate it here"
   ]
  },
  {
   "cell_type": "markdown",
   "id": "a92eb4f2-65fd-4413-be6d-825d27330e4b",
   "metadata": {},
   "source": [
    "2. Create a table to represent the data"
   ]
  },
  {
   "cell_type": "code",
   "execution_count": 2,
   "id": "37007071-01e0-45dd-997b-750ec61e06a0",
   "metadata": {},
   "outputs": [],
   "source": [
    "table = {\n",
    "    \"Speeds\": [\"15\", \"45\", \"65\"],\n",
    "    \"Kia\": [],\n",
    "    \"Ford\": [],\n",
    "    \"Fiat\": [],\n",
    "    \"Dodge\": []\n",
    "}"
   ]
  },
  {
   "cell_type": "markdown",
   "id": "a4fd9845-5ee2-42de-a976-31e511d2d6b7",
   "metadata": {},
   "source": [
    "2. Index the list "
   ]
  },
  {
   "cell_type": "code",
   "execution_count": 3,
   "id": "288a250c-831b-4425-97d1-e79802b9be1e",
   "metadata": {},
   "outputs": [
    {
     "name": "stdout",
     "output_type": "stream",
     "text": [
      "Kia 4502\n",
      "Ford 6015\n",
      "Fiat 3305\n",
      "Dodge 4073\n"
     ]
    }
   ],
   "source": [
    "for n, car in enumerate(cars):\n",
    "    print(car, masses[n])"
   ]
  },
  {
   "cell_type": "markdown",
   "id": "1a635f14-08d0-4401-a976-a44a9acff979",
   "metadata": {},
   "source": [
    "4. Calculate the speed that each car is traveling in each location"
   ]
  },
  {
   "cell_type": "code",
   "execution_count": 4,
   "id": "8f81ffc9-0758-4097-96f9-2408a3e13fb9",
   "metadata": {},
   "outputs": [
    {
     "name": "stdout",
     "output_type": "stream",
     "text": [
      "{'Speeds': ['15', '45', '65'], 'Kia': [], 'Ford': [], 'Fiat': [], 'Dodge': []}\n"
     ]
    }
   ],
   "source": [
    "print(table)\n",
    "for speed in speeds:\n",
    "    for n, car in enumerate(cars):\n",
    "        table[car].append((masses[n] * .5) * (speed)**2)\n",
    "df = pd.DataFrame(table)\n",
    "#whenever you mention either masses or cars, you need to mention both because they're connected"
   ]
  },
  {
   "cell_type": "code",
   "execution_count": 5,
   "id": "7a8b73d9-a6c3-4fbb-91f6-630a02154fab",
   "metadata": {},
   "outputs": [
    {
     "data": {
      "text/html": [
       "<div>\n",
       "<style scoped>\n",
       "    .dataframe tbody tr th:only-of-type {\n",
       "        vertical-align: middle;\n",
       "    }\n",
       "\n",
       "    .dataframe tbody tr th {\n",
       "        vertical-align: top;\n",
       "    }\n",
       "\n",
       "    .dataframe thead th {\n",
       "        text-align: right;\n",
       "    }\n",
       "</style>\n",
       "<table border=\"1\" class=\"dataframe\">\n",
       "  <thead>\n",
       "    <tr style=\"text-align: right;\">\n",
       "      <th></th>\n",
       "      <th>Speeds</th>\n",
       "      <th>Kia</th>\n",
       "      <th>Ford</th>\n",
       "      <th>Fiat</th>\n",
       "      <th>Dodge</th>\n",
       "    </tr>\n",
       "  </thead>\n",
       "  <tbody>\n",
       "    <tr>\n",
       "      <th>0</th>\n",
       "      <td>15</td>\n",
       "      <td>506,475.00</td>\n",
       "      <td>676,687.50</td>\n",
       "      <td>371,812.50</td>\n",
       "      <td>458,212.50</td>\n",
       "    </tr>\n",
       "    <tr>\n",
       "      <th>1</th>\n",
       "      <td>45</td>\n",
       "      <td>4,558,275.00</td>\n",
       "      <td>6,090,187.50</td>\n",
       "      <td>3,346,312.50</td>\n",
       "      <td>4,123,912.50</td>\n",
       "    </tr>\n",
       "    <tr>\n",
       "      <th>2</th>\n",
       "      <td>65</td>\n",
       "      <td>9,510,475.00</td>\n",
       "      <td>12,706,687.50</td>\n",
       "      <td>6,981,812.50</td>\n",
       "      <td>8,604,212.50</td>\n",
       "    </tr>\n",
       "  </tbody>\n",
       "</table>\n",
       "</div>"
      ],
      "text/plain": [
       "  Speeds          Kia          Ford         Fiat        Dodge\n",
       "0     15   506,475.00    676,687.50   371,812.50   458,212.50\n",
       "1     45 4,558,275.00  6,090,187.50 3,346,312.50 4,123,912.50\n",
       "2     65 9,510,475.00 12,706,687.50 6,981,812.50 8,604,212.50"
      ]
     },
     "metadata": {},
     "output_type": "display_data"
    }
   ],
   "source": [
    "pd.set_option('float_format', '{:,.2f}'.format) \n",
    "display(df)"
   ]
  },
  {
   "cell_type": "markdown",
   "id": "08a1ba46-c8c6-4d85-a7d6-b4db3d33f308",
   "metadata": {},
   "source": [
    "## Summary"
   ]
  },
  {
   "cell_type": "markdown",
   "id": "b6ef06f3-ad1a-4f09-8c7f-05d108ea5451",
   "metadata": {},
   "source": [
    "I learned the following from this assignment:\n",
    "1. How to combine both projects into one, using a table to graph my information\n",
    "2. What dictionaries are and how useful they are in graphing\n",
    "3. How to persistantly work through problems and work through errors in my program"
   ]
  },
  {
   "cell_type": "markdown",
   "id": "20c2772b-d1cd-4d4e-a920-72050d774d69",
   "metadata": {},
   "source": [
    "I will ask for help during class today if I am able to. "
   ]
  }
 ],
 "metadata": {
  "kernelspec": {
   "display_name": "Python 3 (ipykernel)",
   "language": "python",
   "name": "python3"
  },
  "language_info": {
   "codemirror_mode": {
    "name": "ipython",
    "version": 3
   },
   "file_extension": ".py",
   "mimetype": "text/x-python",
   "name": "python",
   "nbconvert_exporter": "python",
   "pygments_lexer": "ipython3",
   "version": "3.8.16"
  }
 },
 "nbformat": 4,
 "nbformat_minor": 5
}
