{
 "cells": [
  {
   "cell_type": "markdown",
   "id": "3ca6249a-8e37-4fd4-8c9d-939ba2b88d2c",
   "metadata": {},
   "source": [
    "# 03-Graph-Kinetic-Energy\n",
    "Using the data calculated from Kinetic-Energy, create a plot which uses a dataframe to plot the data. While getting the data into a dataframe is more complex than a series of lists, this complexity pays off with an ease of printing and plotting the dataframe.\r\n",
    "\r\n",
    "We'll also use dataframes to plot more complex and detailed data from other projects. This assignment will get us started and make some room for experimentation with graphing using python libraries."
   ]
  },
  {
   "cell_type": "markdown",
   "id": "bc3d8240-8b68-4dd0-8d8b-fb8981b6e9f7",
   "metadata": {},
   "source": [
    "## Functions to Consider\n",
    "- import pandas as pd\n",
    "- df = pd.DataFrame(table)\n",
    "- pd.set_option('float_format', '{:,.2f}'.format)\r\n",
    " display(df\n",
    "- fig = px.line(df, x='Speeds(mph)', y=['Kia', 'Ford', \"Fiat\", \"Dodge\"]))"
   ]
  },
  {
   "cell_type": "markdown",
   "id": "de3d6f97-abb3-4ce3-96d0-662fc9719f7c",
   "metadata": {},
   "source": [
    "## Algorithm\n",
    "1. Creating a list for each category on the table\n",
    "2. Calculate the speed that each car is traveling in each location\n",
    "3. Create a table to represent the data"
   ]
  },
  {
   "cell_type": "markdown",
   "id": "750f7930-52e9-4f8a-b900-19e29dc82f59",
   "metadata": {},
   "source": [
    "## Program"
   ]
  },
  {
   "cell_type": "markdown",
   "id": "d7de7605-e2f6-4733-b03e-17f9cdc0137d",
   "metadata": {},
   "source": [
    "1. Creating a list for each category on the table"
   ]
  },
  {
   "cell_type": "code",
   "execution_count": 1,
   "id": "72606c6f-a1fd-477f-a154-3aff4917a554",
   "metadata": {},
   "outputs": [],
   "source": [
    "import pandas as pd\n",
    "masses = [4502, 6015, 3305, 4073]\n",
    "cars = [\"Kia\", \"Ford\", \"Fiat\", \"Dodge\"]\n",
    "speeds = [15.0, 45.0, 65.0]\n",
    "\n",
    "#put all your information from the last project into a list and then you're going to calculate it here"
   ]
  },
  {
   "cell_type": "markdown",
   "id": "e5dc4fd8-c259-48f4-98a3-850ac9adb515",
   "metadata": {},
   "source": [
    "2. Calculate the speed that each car is traveling in each location"
   ]
  },
  {
   "cell_type": "code",
   "execution_count": 2,
   "id": "8f81ffc9-0758-4097-96f9-2408a3e13fb9",
   "metadata": {},
   "outputs": [
    {
     "ename": "TypeError",
     "evalue": "'list' object is not callable",
     "output_type": "error",
     "traceback": [
      "\u001b[1;31m---------------------------------------------------------------------------\u001b[0m",
      "\u001b[1;31mTypeError\u001b[0m                                 Traceback (most recent call last)",
      "Cell \u001b[1;32mIn[2], line 5\u001b[0m\n\u001b[0;32m      1\u001b[0m \u001b[38;5;66;03m#for car in cars('Kia', 'Ford', 'Fiat', 'Dodge'):\u001b[39;00m\n\u001b[0;32m      2\u001b[0m \u001b[38;5;66;03m#for speed in speeds(15, 45, 65):\u001b[39;00m\n\u001b[0;32m      3\u001b[0m \u001b[38;5;66;03m#for i, mass in enumerate(masses):\u001b[39;00m\n\u001b[0;32m      4\u001b[0m     \u001b[38;5;66;03m#print(f\"In kilograms the Kia weighs {mass * .5 * speeds[speeds]**2} lol\")\u001b[39;00m\n\u001b[1;32m----> 5\u001b[0m \u001b[38;5;28;01mfor\u001b[39;00m speed \u001b[38;5;129;01min\u001b[39;00m \u001b[43mspeeds\u001b[49m\u001b[43m(\u001b[49m\u001b[38;5;241;43m15\u001b[39;49m\u001b[43m,\u001b[49m\u001b[43m \u001b[49m\u001b[38;5;241;43m45\u001b[39;49m\u001b[43m,\u001b[49m\u001b[43m \u001b[49m\u001b[38;5;241;43m65\u001b[39;49m\u001b[43m)\u001b[49m:\n\u001b[0;32m      6\u001b[0m     \u001b[38;5;28;01mfor\u001b[39;00m car \u001b[38;5;129;01min\u001b[39;00m cars(\u001b[38;5;124m'\u001b[39m\u001b[38;5;124mKia\u001b[39m\u001b[38;5;124m'\u001b[39m, \u001b[38;5;124m'\u001b[39m\u001b[38;5;124mFord\u001b[39m\u001b[38;5;124m'\u001b[39m, \u001b[38;5;124m'\u001b[39m\u001b[38;5;124mFiat\u001b[39m\u001b[38;5;124m'\u001b[39m, \u001b[38;5;124m'\u001b[39m\u001b[38;5;124mDodge\u001b[39m\u001b[38;5;124m'\u001b[39m):\n\u001b[0;32m      7\u001b[0m         table[cars][speeds] \u001b[38;5;241m=\u001b[39m masses \u001b[38;5;241m*\u001b[39m \u001b[38;5;241m.5\u001b[39m \u001b[38;5;241m*\u001b[39m speed[car]\u001b[38;5;241m*\u001b[39m\u001b[38;5;241m*\u001b[39m\u001b[38;5;241m2\u001b[39m\n",
      "\u001b[1;31mTypeError\u001b[0m: 'list' object is not callable"
     ]
    }
   ],
   "source": [
    "#for car in cars('Kia', 'Ford', 'Fiat', 'Dodge'):\n",
    "#for speed in speeds(15, 45, 65):\n",
    "#for i, mass in enumerate(masses):\n",
    "    #print(f\"In kilograms the Kia weighs {mass * .5 * speeds[speeds]**2}\")\n",
    "for speed in speeds(15, 45, 65):\n",
    "    for car in cars('Kia', 'Ford', 'Fiat', 'Dodge'):\n",
    "        table[cars][speeds] = masses * .5 * speed[car]**2"
   ]
  },
  {
   "cell_type": "markdown",
   "id": "a92eb4f2-65fd-4413-be6d-825d27330e4b",
   "metadata": {},
   "source": [
    "3. Create a table to represent the data"
   ]
  },
  {
   "cell_type": "code",
   "execution_count": null,
   "id": "37007071-01e0-45dd-997b-750ec61e06a0",
   "metadata": {},
   "outputs": [],
   "source": [
    "table = {\n",
    "    \"Vehicle Type\": [\"15\", \"45\", \"65\"],\n",
    "    \"Kia EV6\": [],\n",
    "    \"Ford F-150 Lightning\": [],\n",
    "    \"Fiat 500 Pop AWD\": [],\n",
    "    \"Dodge Charger GT RWD\": []\n",
    "}"
   ]
  },
  {
   "cell_type": "markdown",
   "id": "5910f401-3079-4e6a-be2b-5191200cd61d",
   "metadata": {},
   "source": [
    "create the dictionary after correctly calculating t"
   ]
  },
  {
   "cell_type": "code",
   "execution_count": null,
   "id": "7a8b73d9-a6c3-4fbb-91f6-630a02154fab",
   "metadata": {},
   "outputs": [],
   "source": [
    "pd.set_option('float_format', '{:,.2f}'.format) \n",
    "display(df)"
   ]
  },
  {
   "cell_type": "markdown",
   "id": "08a1ba46-c8c6-4d85-a7d6-b4db3d33f308",
   "metadata": {},
   "source": [
    "## Summary"
   ]
  },
  {
   "cell_type": "markdown",
   "id": "b6ef06f3-ad1a-4f09-8c7f-05d108ea5451",
   "metadata": {},
   "source": [
    "I learned the following from this assignment:\n",
    "1. How to combine both projects into one, using a table to graph my information\n",
    "2. What dictionaries are and how useful they are in graphing\n",
    "3. How to persistantly work through problems and work through errors in my program"
   ]
  },
  {
   "cell_type": "markdown",
   "id": "20c2772b-d1cd-4d4e-a920-72050d774d69",
   "metadata": {},
   "source": [
    "I will ask for help during class today if I am able to. "
   ]
  }
 ],
 "metadata": {
  "kernelspec": {
   "display_name": "Python 3 (ipykernel)",
   "language": "python",
   "name": "python3"
  },
  "language_info": {
   "codemirror_mode": {
    "name": "ipython",
    "version": 3
   },
   "file_extension": ".py",
   "mimetype": "text/x-python",
   "name": "python",
   "nbconvert_exporter": "python",
   "pygments_lexer": "ipython3",
   "version": "3.8.16"
  }
 },
 "nbformat": 4,
 "nbformat_minor": 5
}
