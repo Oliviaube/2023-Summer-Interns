{
 "cells": [
  {
   "cell_type": "markdown",
   "id": "689afe0e-304e-4189-92ee-b22e8aeeb3eb",
   "metadata": {},
   "source": [
    "# 04-Anscombe"
   ]
  },
  {
   "cell_type": "markdown",
   "id": "6eb59c27-1a6c-4bb2-8821-615d9b84df45",
   "metadata": {},
   "source": [
    "The goal of this assignment is to understand why ploting data is so important. Anscombe's quartet is a great example of data which seems to be the same statistically, however, once graphed can be vastly different."
   ]
  },
  {
   "cell_type": "markdown",
   "id": "ec535d6b-5651-40bc-a051-f5f0088e366f",
   "metadata": {},
   "source": [
    "## Functions to Consider\n",
    "- df = pd.read_csv(\"anscombe.csv\")\n",
    "- read_csv(filename)\n",
    "- display(dataframe) - Print a formatted table of the Dataframe\n",
    "- \n",
    ".info - Print a concise summary of a DataFrame\n",
    "- \r\n",
    ".describe - Generate descriptive statistics of DataFrame columns."
   ]
  },
  {
   "cell_type": "markdown",
   "id": "2697f3ed-8da5-4ca1-835d-dbce5c2b9855",
   "metadata": {},
   "source": [
    "## Algorithm\n",
    "1. Calculate the average all of the data (44 examples)\n",
    "2. Calculate the standard deviation of all the data (44 examples)\n",
    "3. Compare the results to those achieved by using the describe() command\n",
    "4. Perform step 1 and 2 for each dataset (I-IV), again comparing the results. Consider using the for x in y: capability in Python\n",
    "5. Graph each dataset (I-IV) using px.scatter()\n",
    "6. Compare results with those found on the Wikipedia pageove."
   ]
  },
  {
   "cell_type": "markdown",
   "id": "6720ae54-a2ed-47df-bf80-5cc979ddd769",
   "metadata": {},
   "source": [
    "## Program"
   ]
  },
  {
   "cell_type": "markdown",
   "id": "d5f48934-f6de-44aa-9869-fec676ceb769",
   "metadata": {},
   "source": [
    "1. Calculate the average for each dataset (44 examples)"
   ]
  },
  {
   "cell_type": "code",
   "execution_count": 1,
   "id": "a2e22333-ef96-43ab-a777-a2aca9db9204",
   "metadata": {},
   "outputs": [
    {
     "data": {
      "text/plain": [
       "'The average for dataset x is 9.209302325581396'"
      ]
     },
     "execution_count": 1,
     "metadata": {},
     "output_type": "execute_result"
    }
   ],
   "source": [
    "import pandas as pd\n",
    "import plotly.express as px\n",
    "sum = 0\n",
    "total = 0\n",
    "df = pd.read_csv(\"anscombe.csv\")\n",
    "data = df[\"x\"]\n",
    "for n, element in enumerate(data):\n",
    "    sum += int(element)\n",
    "    total = n\n",
    "avg1 = sum / total\n",
    "f\"The average for dataset x is {avg1}\""
   ]
  },
  {
   "cell_type": "code",
   "execution_count": 2,
   "id": "1d35bf78-eb3f-428d-b12a-d62ae43bbbe6",
   "metadata": {},
   "outputs": [
    {
     "data": {
      "text/plain": [
       "'The average for dataset y is 7.162790697674419'"
      ]
     },
     "execution_count": 2,
     "metadata": {},
     "output_type": "execute_result"
    }
   ],
   "source": [
    "sum = 0 #reset sum so that past data doesn't interfere\n",
    "total = 0\n",
    "df = pd.read_csv(\"anscombe.csv\")\n",
    "data = df[\"y\"]\n",
    "for n, element in enumerate(data):\n",
    "    sum += int(element)\n",
    "    total = n\n",
    "avg2 = sum / total\n",
    "f\"The average for dataset y is {avg2}\"\n",
    "\n",
    "#[(dataset_x)] it will provide you the data corrisponded in the column as a list"
   ]
  },
  {
   "cell_type": "code",
   "execution_count": 3,
   "id": "f738b582-3743-4909-9e40-01b2330fba61",
   "metadata": {},
   "outputs": [
    {
     "data": {
      "text/plain": [
       "'The average for both datasets is 8.186046511627907'"
      ]
     },
     "execution_count": 3,
     "metadata": {},
     "output_type": "execute_result"
    }
   ],
   "source": [
    "avg3 = (avg1 + avg2) / 2\n",
    "f\"The average for both datasets is {avg3}\""
   ]
  },
  {
   "cell_type": "markdown",
   "id": "f7c86269-63cb-4f0d-b3d9-2d8e16e79662",
   "metadata": {},
   "source": [
    "2. Calculate the standard deviation of the data (44 examples)"
   ]
  },
  {
   "cell_type": "code",
   "execution_count": 5,
   "id": "45943fa3-d301-4eb6-af32-3f4ac442f97c",
   "metadata": {},
   "outputs": [
    {
     "ename": "TypeError",
     "evalue": "'float' object is not iterable",
     "output_type": "error",
     "traceback": [
      "\u001b[1;31m---------------------------------------------------------------------------\u001b[0m",
      "\u001b[1;31mTypeError\u001b[0m                                 Traceback (most recent call last)",
      "Cell \u001b[1;32mIn[5], line 2\u001b[0m\n\u001b[0;32m      1\u001b[0m \u001b[38;5;28;01mimport\u001b[39;00m \u001b[38;5;21;01mstatistics\u001b[39;00m\n\u001b[1;32m----> 2\u001b[0m sd \u001b[38;5;241m=\u001b[39m \u001b[43mstatistics\u001b[49m\u001b[38;5;241;43m.\u001b[39;49m\u001b[43mstdev\u001b[49m\u001b[43m(\u001b[49m\u001b[43mavg3\u001b[49m\u001b[43m)\u001b[49m\n\u001b[0;32m      3\u001b[0m \u001b[38;5;124mf\u001b[39m\u001b[38;5;124m\"\u001b[39m\u001b[38;5;124mThe standard deviation is \u001b[39m\u001b[38;5;132;01m{\u001b[39;00msd\u001b[38;5;132;01m}\u001b[39;00m\u001b[38;5;124m\"\u001b[39m\n",
      "File \u001b[1;32mC:\\JupyterLab\\Python\\lib\\statistics.py:799\u001b[0m, in \u001b[0;36mstdev\u001b[1;34m(data, xbar)\u001b[0m\n\u001b[0;32m    790\u001b[0m \u001b[38;5;28;01mdef\u001b[39;00m \u001b[38;5;21mstdev\u001b[39m(data, xbar\u001b[38;5;241m=\u001b[39m\u001b[38;5;28;01mNone\u001b[39;00m):\n\u001b[0;32m    791\u001b[0m \u001b[38;5;250m    \u001b[39m\u001b[38;5;124;03m\"\"\"Return the square root of the sample variance.\u001b[39;00m\n\u001b[0;32m    792\u001b[0m \n\u001b[0;32m    793\u001b[0m \u001b[38;5;124;03m    See ``variance`` for arguments and other details.\u001b[39;00m\n\u001b[1;32m   (...)\u001b[0m\n\u001b[0;32m    797\u001b[0m \n\u001b[0;32m    798\u001b[0m \u001b[38;5;124;03m    \"\"\"\u001b[39;00m\n\u001b[1;32m--> 799\u001b[0m     var \u001b[38;5;241m=\u001b[39m \u001b[43mvariance\u001b[49m\u001b[43m(\u001b[49m\u001b[43mdata\u001b[49m\u001b[43m,\u001b[49m\u001b[43m \u001b[49m\u001b[43mxbar\u001b[49m\u001b[43m)\u001b[49m\n\u001b[0;32m    800\u001b[0m     \u001b[38;5;28;01mtry\u001b[39;00m:\n\u001b[0;32m    801\u001b[0m         \u001b[38;5;28;01mreturn\u001b[39;00m var\u001b[38;5;241m.\u001b[39msqrt()\n",
      "File \u001b[1;32mC:\\JupyterLab\\Python\\lib\\statistics.py:737\u001b[0m, in \u001b[0;36mvariance\u001b[1;34m(data, xbar)\u001b[0m\n\u001b[0;32m    699\u001b[0m \u001b[38;5;28;01mdef\u001b[39;00m \u001b[38;5;21mvariance\u001b[39m(data, xbar\u001b[38;5;241m=\u001b[39m\u001b[38;5;28;01mNone\u001b[39;00m):\n\u001b[0;32m    700\u001b[0m \u001b[38;5;250m    \u001b[39m\u001b[38;5;124;03m\"\"\"Return the sample variance of data.\u001b[39;00m\n\u001b[0;32m    701\u001b[0m \n\u001b[0;32m    702\u001b[0m \u001b[38;5;124;03m    data should be an iterable of Real-valued numbers, with at least two\u001b[39;00m\n\u001b[1;32m   (...)\u001b[0m\n\u001b[0;32m    735\u001b[0m \n\u001b[0;32m    736\u001b[0m \u001b[38;5;124;03m    \"\"\"\u001b[39;00m\n\u001b[1;32m--> 737\u001b[0m     \u001b[38;5;28;01mif\u001b[39;00m \u001b[38;5;28;43miter\u001b[39;49m\u001b[43m(\u001b[49m\u001b[43mdata\u001b[49m\u001b[43m)\u001b[49m \u001b[38;5;129;01mis\u001b[39;00m data:\n\u001b[0;32m    738\u001b[0m         data \u001b[38;5;241m=\u001b[39m \u001b[38;5;28mlist\u001b[39m(data)\n\u001b[0;32m    739\u001b[0m     n \u001b[38;5;241m=\u001b[39m \u001b[38;5;28mlen\u001b[39m(data)\n",
      "\u001b[1;31mTypeError\u001b[0m: 'float' object is not iterable"
     ]
    }
   ],
   "source": [
    "import statistics\n",
    "sd = statistics.stdev(avg3)\n",
    "f\"The standard deviation is {sd}\""
   ]
  },
  {
   "cell_type": "markdown",
   "id": "724da3ff-fd8a-4782-af4b-b3182f51e842",
   "metadata": {},
   "source": [
    "3. Compare the results to those achieved by using the describe() command"
   ]
  },
  {
   "cell_type": "code",
   "execution_count": null,
   "id": "e081ccfc-584e-44c3-b453-10108e33c53c",
   "metadata": {},
   "outputs": [],
   "source": [
    "df.info\n",
    "df.describe()"
   ]
  },
  {
   "cell_type": "markdown",
   "id": "cabc137b-147a-4050-bce4-fa90979dd6db",
   "metadata": {},
   "source": [
    "Compared to the results that were already achieved, my results are the same for each row"
   ]
  },
  {
   "cell_type": "markdown",
   "id": "7aeb924d-4496-4938-851f-d8baff9804ee",
   "metadata": {},
   "source": [
    "4. Perform steps 1 and 2 for each dataset (I-IV), again comparing the results. Consider using the for x in y: capability in Python"
   ]
  },
  {
   "cell_type": "markdown",
   "id": "57b783fb-2c8c-4e4c-84f4-c5d59d11e571",
   "metadata": {},
   "source": [
    "Dataset 1"
   ]
  },
  {
   "cell_type": "code",
   "execution_count": null,
   "id": "90101ef5-0ccd-4665-8a07-3c090c2929f1",
   "metadata": {},
   "outputs": [],
   "source": [
    "df[df[\"dataset\"] == 'I']"
   ]
  },
  {
   "cell_type": "code",
   "execution_count": null,
   "id": "f25169e5-c717-41fe-9a5b-5ea6025b002d",
   "metadata": {},
   "outputs": [],
   "source": [
    "sum = 0\n",
    "total = 0\n",
    "df = pd.read_csv(\"anscombe.csv\")\n",
    "data = df[df[\"dataset\"] == 'I']\n",
    "for x in y\n",
    "    sum += int(element)\n",
    "    total = n\n",
    "avg1 = sum / total\n",
    "f\"The average for dataset x is {avg1}\""
   ]
  },
  {
   "cell_type": "markdown",
   "id": "848d3a9b-2f15-4fa0-ba49-0c087dcb5591",
   "metadata": {},
   "source": [
    "Right now I am having problems only calculating the mean and standard deviation for each singular dataset. I also had some problems calculating the standard deviation, saying that \"'float' object is not iterable\" "
   ]
  }
 ],
 "metadata": {
  "kernelspec": {
   "display_name": "Python 3 (ipykernel)",
   "language": "python",
   "name": "python3"
  },
  "language_info": {
   "codemirror_mode": {
    "name": "ipython",
    "version": 3
   },
   "file_extension": ".py",
   "mimetype": "text/x-python",
   "name": "python",
   "nbconvert_exporter": "python",
   "pygments_lexer": "ipython3",
   "version": "3.8.16"
  }
 },
 "nbformat": 4,
 "nbformat_minor": 5
}
