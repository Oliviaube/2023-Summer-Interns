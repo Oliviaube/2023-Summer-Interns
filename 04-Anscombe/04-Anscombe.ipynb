{
 "cells": [
  {
   "cell_type": "markdown",
   "id": "689afe0e-304e-4189-92ee-b22e8aeeb3eb",
   "metadata": {},
   "source": [
    "# 04-Anscombe"
   ]
  },
  {
   "cell_type": "markdown",
   "id": "6eb59c27-1a6c-4bb2-8821-615d9b84df45",
   "metadata": {},
   "source": [
    "The goal of this assignment is to understand why ploting data is so important. Anscombe's quartet is a great example of data which seems to be the same statistically, however, once graphed can be vastly different."
   ]
  },
  {
   "cell_type": "markdown",
   "id": "ec535d6b-5651-40bc-a051-f5f0088e366f",
   "metadata": {},
   "source": [
    "## Functions to Consider\n",
    "- df = pd.read_csv(\"anscombe.csv\")\n",
    "- read_csv(filename)\n",
    "- display(dataframe) - Print a formatted table of the Dataframe\n",
    "- \n",
    ".info - Print a concise summary of a DataFrame\n",
    "- \r\n",
    ".describe - Generate descriptive statistics of DataFrame columns."
   ]
  },
  {
   "cell_type": "markdown",
   "id": "2697f3ed-8da5-4ca1-835d-dbce5c2b9855",
   "metadata": {},
   "source": [
    "## Algorithm\n",
    "1. Calculate the average all of the data (44 examples)\n",
    "2. Calculate the standard deviation of all the data (44 examples)\n",
    "3. Compare the results to those achieved by using the describe() command\n",
    "4. Perform step 1 and 2 for each dataset (I-IV), again comparing the results. Consider using the for x in y: capability in Python\n",
    "5. Graph each dataset (I-IV) using px.scatter()\n",
    "6. Compare results with those found on the Wikipedia pageove."
   ]
  },
  {
   "cell_type": "markdown",
   "id": "6720ae54-a2ed-47df-bf80-5cc979ddd769",
   "metadata": {},
   "source": [
    "## Program"
   ]
  },
  {
   "cell_type": "markdown",
   "id": "d5f48934-f6de-44aa-9869-fec676ceb769",
   "metadata": {},
   "source": [
    "1. Calculate the average for each dataset (44 examples)"
   ]
  },
  {
   "cell_type": "code",
   "execution_count": 1,
   "id": "a2e22333-ef96-43ab-a777-a2aca9db9204",
   "metadata": {},
   "outputs": [
    {
     "data": {
      "text/html": [
       "<div>\n",
       "<style scoped>\n",
       "    .dataframe tbody tr th:only-of-type {\n",
       "        vertical-align: middle;\n",
       "    }\n",
       "\n",
       "    .dataframe tbody tr th {\n",
       "        vertical-align: top;\n",
       "    }\n",
       "\n",
       "    .dataframe thead th {\n",
       "        text-align: right;\n",
       "    }\n",
       "</style>\n",
       "<table border=\"1\" class=\"dataframe\">\n",
       "  <thead>\n",
       "    <tr style=\"text-align: right;\">\n",
       "      <th></th>\n",
       "      <th>dataset</th>\n",
       "      <th>x</th>\n",
       "      <th>y</th>\n",
       "    </tr>\n",
       "  </thead>\n",
       "  <tbody>\n",
       "    <tr>\n",
       "      <th>0</th>\n",
       "      <td>I</td>\n",
       "      <td>10.0</td>\n",
       "      <td>8.04</td>\n",
       "    </tr>\n",
       "    <tr>\n",
       "      <th>1</th>\n",
       "      <td>I</td>\n",
       "      <td>8.0</td>\n",
       "      <td>6.95</td>\n",
       "    </tr>\n",
       "    <tr>\n",
       "      <th>2</th>\n",
       "      <td>I</td>\n",
       "      <td>13.0</td>\n",
       "      <td>7.58</td>\n",
       "    </tr>\n",
       "    <tr>\n",
       "      <th>3</th>\n",
       "      <td>I</td>\n",
       "      <td>9.0</td>\n",
       "      <td>8.81</td>\n",
       "    </tr>\n",
       "    <tr>\n",
       "      <th>4</th>\n",
       "      <td>I</td>\n",
       "      <td>11.0</td>\n",
       "      <td>8.33</td>\n",
       "    </tr>\n",
       "    <tr>\n",
       "      <th>5</th>\n",
       "      <td>I</td>\n",
       "      <td>14.0</td>\n",
       "      <td>9.96</td>\n",
       "    </tr>\n",
       "    <tr>\n",
       "      <th>6</th>\n",
       "      <td>I</td>\n",
       "      <td>6.0</td>\n",
       "      <td>7.24</td>\n",
       "    </tr>\n",
       "    <tr>\n",
       "      <th>7</th>\n",
       "      <td>I</td>\n",
       "      <td>4.0</td>\n",
       "      <td>4.26</td>\n",
       "    </tr>\n",
       "    <tr>\n",
       "      <th>8</th>\n",
       "      <td>I</td>\n",
       "      <td>12.0</td>\n",
       "      <td>10.84</td>\n",
       "    </tr>\n",
       "    <tr>\n",
       "      <th>9</th>\n",
       "      <td>I</td>\n",
       "      <td>7.0</td>\n",
       "      <td>4.82</td>\n",
       "    </tr>\n",
       "    <tr>\n",
       "      <th>10</th>\n",
       "      <td>I</td>\n",
       "      <td>5.0</td>\n",
       "      <td>5.68</td>\n",
       "    </tr>\n",
       "    <tr>\n",
       "      <th>11</th>\n",
       "      <td>II</td>\n",
       "      <td>10.0</td>\n",
       "      <td>9.14</td>\n",
       "    </tr>\n",
       "    <tr>\n",
       "      <th>12</th>\n",
       "      <td>II</td>\n",
       "      <td>8.0</td>\n",
       "      <td>8.14</td>\n",
       "    </tr>\n",
       "    <tr>\n",
       "      <th>13</th>\n",
       "      <td>II</td>\n",
       "      <td>13.0</td>\n",
       "      <td>8.74</td>\n",
       "    </tr>\n",
       "    <tr>\n",
       "      <th>14</th>\n",
       "      <td>II</td>\n",
       "      <td>9.0</td>\n",
       "      <td>8.77</td>\n",
       "    </tr>\n",
       "    <tr>\n",
       "      <th>15</th>\n",
       "      <td>II</td>\n",
       "      <td>11.0</td>\n",
       "      <td>9.26</td>\n",
       "    </tr>\n",
       "    <tr>\n",
       "      <th>16</th>\n",
       "      <td>II</td>\n",
       "      <td>14.0</td>\n",
       "      <td>8.10</td>\n",
       "    </tr>\n",
       "    <tr>\n",
       "      <th>17</th>\n",
       "      <td>II</td>\n",
       "      <td>6.0</td>\n",
       "      <td>6.13</td>\n",
       "    </tr>\n",
       "    <tr>\n",
       "      <th>18</th>\n",
       "      <td>II</td>\n",
       "      <td>4.0</td>\n",
       "      <td>3.10</td>\n",
       "    </tr>\n",
       "    <tr>\n",
       "      <th>19</th>\n",
       "      <td>II</td>\n",
       "      <td>12.0</td>\n",
       "      <td>9.13</td>\n",
       "    </tr>\n",
       "    <tr>\n",
       "      <th>20</th>\n",
       "      <td>II</td>\n",
       "      <td>7.0</td>\n",
       "      <td>7.26</td>\n",
       "    </tr>\n",
       "    <tr>\n",
       "      <th>21</th>\n",
       "      <td>II</td>\n",
       "      <td>5.0</td>\n",
       "      <td>4.74</td>\n",
       "    </tr>\n",
       "    <tr>\n",
       "      <th>22</th>\n",
       "      <td>III</td>\n",
       "      <td>10.0</td>\n",
       "      <td>7.46</td>\n",
       "    </tr>\n",
       "    <tr>\n",
       "      <th>23</th>\n",
       "      <td>III</td>\n",
       "      <td>8.0</td>\n",
       "      <td>6.77</td>\n",
       "    </tr>\n",
       "    <tr>\n",
       "      <th>24</th>\n",
       "      <td>III</td>\n",
       "      <td>13.0</td>\n",
       "      <td>12.74</td>\n",
       "    </tr>\n",
       "    <tr>\n",
       "      <th>25</th>\n",
       "      <td>III</td>\n",
       "      <td>9.0</td>\n",
       "      <td>7.11</td>\n",
       "    </tr>\n",
       "    <tr>\n",
       "      <th>26</th>\n",
       "      <td>III</td>\n",
       "      <td>11.0</td>\n",
       "      <td>7.81</td>\n",
       "    </tr>\n",
       "    <tr>\n",
       "      <th>27</th>\n",
       "      <td>III</td>\n",
       "      <td>14.0</td>\n",
       "      <td>8.84</td>\n",
       "    </tr>\n",
       "    <tr>\n",
       "      <th>28</th>\n",
       "      <td>III</td>\n",
       "      <td>6.0</td>\n",
       "      <td>6.08</td>\n",
       "    </tr>\n",
       "    <tr>\n",
       "      <th>29</th>\n",
       "      <td>III</td>\n",
       "      <td>4.0</td>\n",
       "      <td>5.39</td>\n",
       "    </tr>\n",
       "    <tr>\n",
       "      <th>30</th>\n",
       "      <td>III</td>\n",
       "      <td>12.0</td>\n",
       "      <td>8.15</td>\n",
       "    </tr>\n",
       "    <tr>\n",
       "      <th>31</th>\n",
       "      <td>III</td>\n",
       "      <td>7.0</td>\n",
       "      <td>6.42</td>\n",
       "    </tr>\n",
       "    <tr>\n",
       "      <th>32</th>\n",
       "      <td>III</td>\n",
       "      <td>5.0</td>\n",
       "      <td>5.73</td>\n",
       "    </tr>\n",
       "    <tr>\n",
       "      <th>33</th>\n",
       "      <td>IV</td>\n",
       "      <td>8.0</td>\n",
       "      <td>6.58</td>\n",
       "    </tr>\n",
       "    <tr>\n",
       "      <th>34</th>\n",
       "      <td>IV</td>\n",
       "      <td>8.0</td>\n",
       "      <td>5.76</td>\n",
       "    </tr>\n",
       "    <tr>\n",
       "      <th>35</th>\n",
       "      <td>IV</td>\n",
       "      <td>8.0</td>\n",
       "      <td>7.71</td>\n",
       "    </tr>\n",
       "    <tr>\n",
       "      <th>36</th>\n",
       "      <td>IV</td>\n",
       "      <td>8.0</td>\n",
       "      <td>8.84</td>\n",
       "    </tr>\n",
       "    <tr>\n",
       "      <th>37</th>\n",
       "      <td>IV</td>\n",
       "      <td>8.0</td>\n",
       "      <td>8.47</td>\n",
       "    </tr>\n",
       "    <tr>\n",
       "      <th>38</th>\n",
       "      <td>IV</td>\n",
       "      <td>8.0</td>\n",
       "      <td>7.04</td>\n",
       "    </tr>\n",
       "    <tr>\n",
       "      <th>39</th>\n",
       "      <td>IV</td>\n",
       "      <td>8.0</td>\n",
       "      <td>5.25</td>\n",
       "    </tr>\n",
       "    <tr>\n",
       "      <th>40</th>\n",
       "      <td>IV</td>\n",
       "      <td>19.0</td>\n",
       "      <td>12.50</td>\n",
       "    </tr>\n",
       "    <tr>\n",
       "      <th>41</th>\n",
       "      <td>IV</td>\n",
       "      <td>8.0</td>\n",
       "      <td>5.56</td>\n",
       "    </tr>\n",
       "    <tr>\n",
       "      <th>42</th>\n",
       "      <td>IV</td>\n",
       "      <td>8.0</td>\n",
       "      <td>7.91</td>\n",
       "    </tr>\n",
       "    <tr>\n",
       "      <th>43</th>\n",
       "      <td>IV</td>\n",
       "      <td>8.0</td>\n",
       "      <td>6.89</td>\n",
       "    </tr>\n",
       "  </tbody>\n",
       "</table>\n",
       "</div>"
      ],
      "text/plain": [
       "   dataset     x      y\n",
       "0        I  10.0   8.04\n",
       "1        I   8.0   6.95\n",
       "2        I  13.0   7.58\n",
       "3        I   9.0   8.81\n",
       "4        I  11.0   8.33\n",
       "5        I  14.0   9.96\n",
       "6        I   6.0   7.24\n",
       "7        I   4.0   4.26\n",
       "8        I  12.0  10.84\n",
       "9        I   7.0   4.82\n",
       "10       I   5.0   5.68\n",
       "11      II  10.0   9.14\n",
       "12      II   8.0   8.14\n",
       "13      II  13.0   8.74\n",
       "14      II   9.0   8.77\n",
       "15      II  11.0   9.26\n",
       "16      II  14.0   8.10\n",
       "17      II   6.0   6.13\n",
       "18      II   4.0   3.10\n",
       "19      II  12.0   9.13\n",
       "20      II   7.0   7.26\n",
       "21      II   5.0   4.74\n",
       "22     III  10.0   7.46\n",
       "23     III   8.0   6.77\n",
       "24     III  13.0  12.74\n",
       "25     III   9.0   7.11\n",
       "26     III  11.0   7.81\n",
       "27     III  14.0   8.84\n",
       "28     III   6.0   6.08\n",
       "29     III   4.0   5.39\n",
       "30     III  12.0   8.15\n",
       "31     III   7.0   6.42\n",
       "32     III   5.0   5.73\n",
       "33      IV   8.0   6.58\n",
       "34      IV   8.0   5.76\n",
       "35      IV   8.0   7.71\n",
       "36      IV   8.0   8.84\n",
       "37      IV   8.0   8.47\n",
       "38      IV   8.0   7.04\n",
       "39      IV   8.0   5.25\n",
       "40      IV  19.0  12.50\n",
       "41      IV   8.0   5.56\n",
       "42      IV   8.0   7.91\n",
       "43      IV   8.0   6.89"
      ]
     },
     "metadata": {},
     "output_type": "display_data"
    }
   ],
   "source": [
    "import pandas as pd\n",
    "import plotly.express as px\n",
    "sum = 0\n",
    "total = 0\n",
    "df = pd.read_csv(\"anscombe.csv\")\n",
    "display(df)\n",
    "cols = [\"x\", \"y\"]\n",
    "qs = [\"I\", \"II\", \"III\", \"IV\"]"
   ]
  },
  {
   "cell_type": "code",
   "execution_count": 2,
   "id": "d850070c-adaf-4045-b45f-0e1dc214d4d9",
   "metadata": {},
   "outputs": [
    {
     "data": {
      "text/html": [
       "<div>\n",
       "<style scoped>\n",
       "    .dataframe tbody tr th:only-of-type {\n",
       "        vertical-align: middle;\n",
       "    }\n",
       "\n",
       "    .dataframe tbody tr th {\n",
       "        vertical-align: top;\n",
       "    }\n",
       "\n",
       "    .dataframe thead th {\n",
       "        text-align: right;\n",
       "    }\n",
       "</style>\n",
       "<table border=\"1\" class=\"dataframe\">\n",
       "  <thead>\n",
       "    <tr style=\"text-align: right;\">\n",
       "      <th></th>\n",
       "      <th>x</th>\n",
       "      <th>y</th>\n",
       "    </tr>\n",
       "  </thead>\n",
       "  <tbody>\n",
       "    <tr>\n",
       "      <th>count</th>\n",
       "      <td>44.000000</td>\n",
       "      <td>44.000000</td>\n",
       "    </tr>\n",
       "    <tr>\n",
       "      <th>mean</th>\n",
       "      <td>9.000000</td>\n",
       "      <td>7.500682</td>\n",
       "    </tr>\n",
       "    <tr>\n",
       "      <th>std</th>\n",
       "      <td>3.198837</td>\n",
       "      <td>1.958925</td>\n",
       "    </tr>\n",
       "    <tr>\n",
       "      <th>min</th>\n",
       "      <td>4.000000</td>\n",
       "      <td>3.100000</td>\n",
       "    </tr>\n",
       "    <tr>\n",
       "      <th>25%</th>\n",
       "      <td>7.000000</td>\n",
       "      <td>6.117500</td>\n",
       "    </tr>\n",
       "    <tr>\n",
       "      <th>50%</th>\n",
       "      <td>8.000000</td>\n",
       "      <td>7.520000</td>\n",
       "    </tr>\n",
       "    <tr>\n",
       "      <th>75%</th>\n",
       "      <td>11.000000</td>\n",
       "      <td>8.747500</td>\n",
       "    </tr>\n",
       "    <tr>\n",
       "      <th>max</th>\n",
       "      <td>19.000000</td>\n",
       "      <td>12.740000</td>\n",
       "    </tr>\n",
       "  </tbody>\n",
       "</table>\n",
       "</div>"
      ],
      "text/plain": [
       "               x          y\n",
       "count  44.000000  44.000000\n",
       "mean    9.000000   7.500682\n",
       "std     3.198837   1.958925\n",
       "min     4.000000   3.100000\n",
       "25%     7.000000   6.117500\n",
       "50%     8.000000   7.520000\n",
       "75%    11.000000   8.747500\n",
       "max    19.000000  12.740000"
      ]
     },
     "execution_count": 2,
     "metadata": {},
     "output_type": "execute_result"
    }
   ],
   "source": [
    "df.describe()"
   ]
  },
  {
   "cell_type": "code",
   "execution_count": 23,
   "id": "103076f6-e171-49f8-a13f-8e4cb6a2f140",
   "metadata": {},
   "outputs": [
    {
     "name": "stdout",
     "output_type": "stream",
     "text": [
      "The average for dataset x is 9.209302325581396\n",
      "The average for dataset y is 7.162790697674419\n"
     ]
    }
   ],
   "source": [
    "for col in cols:\n",
    "    data = df[col]\n",
    "    sum = 0\n",
    "    for n, element in enumerate(data):\n",
    "        sum += int(element)\n",
    "        total = n\n",
    "    avg1 = sum / total\n",
    "    print(f\"The average for dataset {col} is {avg1}\")"
   ]
  },
  {
   "cell_type": "code",
   "execution_count": 4,
   "id": "1d35bf78-eb3f-428d-b12a-d62ae43bbbe6",
   "metadata": {},
   "outputs": [
    {
     "data": {
      "text/plain": [
       "'The average for dataset y is 7.162790697674419'"
      ]
     },
     "execution_count": 4,
     "metadata": {},
     "output_type": "execute_result"
    }
   ],
   "source": [
    "sum = 0 #reset sum so that past data doesn't interfere\n",
    "total = 0\n",
    "df = pd.read_csv(\"anscombe.csv\")\n",
    "data = df[\"y\"]\n",
    "for n, element in enumerate(data):\n",
    "    sum += int(element)\n",
    "    total = n\n",
    "avg2 = sum / total\n",
    "f\"The average for dataset y is {avg2}\"\n",
    "\n",
    "#[(dataset_x)] it will provide you the data corrisponded in the column as a list"
   ]
  },
  {
   "cell_type": "code",
   "execution_count": 5,
   "id": "f738b582-3743-4909-9e40-01b2330fba61",
   "metadata": {},
   "outputs": [
    {
     "data": {
      "text/plain": [
       "'The average for both datasets is 11.767441860465116'"
      ]
     },
     "execution_count": 5,
     "metadata": {},
     "output_type": "execute_result"
    }
   ],
   "source": [
    "avg3 = (avg1 + avg2) / 2\n",
    "f\"The average for both datasets is {avg3}\""
   ]
  },
  {
   "cell_type": "markdown",
   "id": "f7c86269-63cb-4f0d-b3d9-2d8e16e79662",
   "metadata": {},
   "source": [
    "2. Calculate the standard deviation of the data (44 examples)"
   ]
  },
  {
   "cell_type": "code",
   "execution_count": 6,
   "id": "45943fa3-d301-4eb6-af32-3f4ac442f97c",
   "metadata": {},
   "outputs": [
    {
     "name": "stdout",
     "output_type": "stream",
     "text": [
      "The standard deviation is 1.958925189078419\n"
     ]
    }
   ],
   "source": [
    "import statistics\n",
    "#need to get all of the numbers in a list to calculate the standard deviation. ask how to get them into a list\n",
    "sum = 0\n",
    "total = 0\n",
    "#print(f\"{data = }\")\n",
    "#print()\n",
    "#print(f\"{avg3 = }\")\n",
    "sd = statistics.stdev(data)\n",
    "print(f\"The standard deviation is {sd}\")"
   ]
  },
  {
   "cell_type": "markdown",
   "id": "724da3ff-fd8a-4782-af4b-b3182f51e842",
   "metadata": {},
   "source": [
    "3. Compare the results to those achieved by using the describe() command"
   ]
  },
  {
   "cell_type": "code",
   "execution_count": 7,
   "id": "e081ccfc-584e-44c3-b453-10108e33c53c",
   "metadata": {},
   "outputs": [
    {
     "data": {
      "text/html": [
       "<div>\n",
       "<style scoped>\n",
       "    .dataframe tbody tr th:only-of-type {\n",
       "        vertical-align: middle;\n",
       "    }\n",
       "\n",
       "    .dataframe tbody tr th {\n",
       "        vertical-align: top;\n",
       "    }\n",
       "\n",
       "    .dataframe thead th {\n",
       "        text-align: right;\n",
       "    }\n",
       "</style>\n",
       "<table border=\"1\" class=\"dataframe\">\n",
       "  <thead>\n",
       "    <tr style=\"text-align: right;\">\n",
       "      <th></th>\n",
       "      <th>x</th>\n",
       "      <th>y</th>\n",
       "    </tr>\n",
       "  </thead>\n",
       "  <tbody>\n",
       "    <tr>\n",
       "      <th>count</th>\n",
       "      <td>44.000000</td>\n",
       "      <td>44.000000</td>\n",
       "    </tr>\n",
       "    <tr>\n",
       "      <th>mean</th>\n",
       "      <td>9.000000</td>\n",
       "      <td>7.500682</td>\n",
       "    </tr>\n",
       "    <tr>\n",
       "      <th>std</th>\n",
       "      <td>3.198837</td>\n",
       "      <td>1.958925</td>\n",
       "    </tr>\n",
       "    <tr>\n",
       "      <th>min</th>\n",
       "      <td>4.000000</td>\n",
       "      <td>3.100000</td>\n",
       "    </tr>\n",
       "    <tr>\n",
       "      <th>25%</th>\n",
       "      <td>7.000000</td>\n",
       "      <td>6.117500</td>\n",
       "    </tr>\n",
       "    <tr>\n",
       "      <th>50%</th>\n",
       "      <td>8.000000</td>\n",
       "      <td>7.520000</td>\n",
       "    </tr>\n",
       "    <tr>\n",
       "      <th>75%</th>\n",
       "      <td>11.000000</td>\n",
       "      <td>8.747500</td>\n",
       "    </tr>\n",
       "    <tr>\n",
       "      <th>max</th>\n",
       "      <td>19.000000</td>\n",
       "      <td>12.740000</td>\n",
       "    </tr>\n",
       "  </tbody>\n",
       "</table>\n",
       "</div>"
      ],
      "text/plain": [
       "               x          y\n",
       "count  44.000000  44.000000\n",
       "mean    9.000000   7.500682\n",
       "std     3.198837   1.958925\n",
       "min     4.000000   3.100000\n",
       "25%     7.000000   6.117500\n",
       "50%     8.000000   7.520000\n",
       "75%    11.000000   8.747500\n",
       "max    19.000000  12.740000"
      ]
     },
     "execution_count": 7,
     "metadata": {},
     "output_type": "execute_result"
    }
   ],
   "source": [
    "df.info\n",
    "df.describe()"
   ]
  },
  {
   "cell_type": "markdown",
   "id": "cabc137b-147a-4050-bce4-fa90979dd6db",
   "metadata": {},
   "source": [
    "Compared to the results that were already achieved, my results are the same for each row"
   ]
  },
  {
   "cell_type": "markdown",
   "id": "7aeb924d-4496-4938-851f-d8baff9804ee",
   "metadata": {},
   "source": [
    "4. Perform steps 1 and 2 for each dataset (I-IV), again comparing the results. Consider using the for x in y: capability in Python"
   ]
  },
  {
   "cell_type": "markdown",
   "id": "57b783fb-2c8c-4e4c-84f4-c5d59d11e571",
   "metadata": {},
   "source": [
    "Dataset 1"
   ]
  },
  {
   "cell_type": "code",
   "execution_count": 8,
   "id": "90101ef5-0ccd-4665-8a07-3c090c2929f1",
   "metadata": {},
   "outputs": [],
   "source": [
    "#df[df[\"dataset\"] == 'I']"
   ]
  },
  {
   "cell_type": "code",
   "execution_count": 9,
   "id": "f25169e5-c717-41fe-9a5b-5ea6025b002d",
   "metadata": {},
   "outputs": [
    {
     "data": {
      "text/plain": [
       "'The mean for column x in quadrant I is 2.302325581395349'"
      ]
     },
     "execution_count": 9,
     "metadata": {},
     "output_type": "execute_result"
    }
   ],
   "source": [
    "sum = 0\n",
    "total = 0\n",
    "df = pd.read_csv(\"anscombe.csv\")\n",
    "data = df[df[\"dataset\"] == 'I'][\"x\"]\n",
    "#print(f\"{data}\")\n",
    "for data in data:\n",
    "    sum += data\n",
    "    total = n\n",
    "avg1 = sum / total\n",
    "f\"The mean for column x in quadrant I is {avg1}\""
   ]
  },
  {
   "cell_type": "code",
   "execution_count": 10,
   "id": "bad78867-f7ea-4289-87e9-0ee7e7f1b48e",
   "metadata": {},
   "outputs": [
    {
     "name": "stdout",
     "output_type": "stream",
     "text": [
      "data = 0      8.04\n",
      "1      6.95\n",
      "2      7.58\n",
      "3      8.81\n",
      "4      8.33\n",
      "5      9.96\n",
      "6      7.24\n",
      "7      4.26\n",
      "8     10.84\n",
      "9      4.82\n",
      "10     5.68\n",
      "Name: y, dtype: float64\n",
      "data = 5.68\n"
     ]
    },
    {
     "data": {
      "text/plain": [
       "'The mean for column y in quadrant I is 1.918837209302326'"
      ]
     },
     "execution_count": 10,
     "metadata": {},
     "output_type": "execute_result"
    }
   ],
   "source": [
    "sum = 0\n",
    "total = 0\n",
    "df = pd.read_csv(\"anscombe.csv\")\n",
    "data = df[df[\"dataset\"] == 'I'][\"y\"]\n",
    "print(f\"{data = }\")\n",
    "#print(f\"{data}\")\n",
    "for data in data:\n",
    "    sum += data\n",
    "    total = n\n",
    "avg2 = sum / total\n",
    "print(f\"{data = }\")\n",
    "f\"The mean for column y in quadrant I is {avg2}\""
   ]
  },
  {
   "cell_type": "code",
   "execution_count": 11,
   "id": "a897faf8-c5f1-470a-92c2-e20993da5548",
   "metadata": {},
   "outputs": [
    {
     "data": {
      "text/plain": [
       "'The average for both datasets is 2.1105813953488375 in quadrant I'"
      ]
     },
     "execution_count": 11,
     "metadata": {},
     "output_type": "execute_result"
    }
   ],
   "source": [
    "avg3 = (avg1 + avg2) / 2\n",
    "f\"The average for both datasets is {avg3} in quadrant I\""
   ]
  },
  {
   "cell_type": "code",
   "execution_count": 12,
   "id": "c27e76f5-251f-4f51-8bbe-479eac91dfc3",
   "metadata": {},
   "outputs": [],
   "source": [
    "#import statistics\n",
    "#need to get all of the numbers in a list to calculate the standard deviation. ask how to get them into a list"
   ]
  },
  {
   "cell_type": "markdown",
   "id": "6a5b76b7-1f18-4c86-8ed6-1d9f2863fe30",
   "metadata": {},
   "source": [
    "Dataset 2"
   ]
  },
  {
   "cell_type": "code",
   "execution_count": 13,
   "id": "240b1bd1-7da4-44fe-a765-bfc639150d88",
   "metadata": {},
   "outputs": [
    {
     "data": {
      "text/plain": [
       "'The mean for column x in quadrant II is 2.302325581395349'"
      ]
     },
     "execution_count": 13,
     "metadata": {},
     "output_type": "execute_result"
    }
   ],
   "source": [
    "sum = 0\n",
    "total = 0\n",
    "data = df[df[\"dataset\"] == 'II'][\"x\"]\n",
    "#print(f\"{data}\")\n",
    "for data in data:\n",
    "    sum += data\n",
    "    total = n\n",
    "avg1 = sum / total\n",
    "f\"The mean for column x in quadrant II is {avg1}\""
   ]
  },
  {
   "cell_type": "code",
   "execution_count": 14,
   "id": "66d1572c-aa44-47ab-85c9-af04f198c579",
   "metadata": {},
   "outputs": [
    {
     "data": {
      "text/plain": [
       "'The mean for column y in quadrant II is 1.9188372093023256'"
      ]
     },
     "execution_count": 14,
     "metadata": {},
     "output_type": "execute_result"
    }
   ],
   "source": [
    "sum = 0\n",
    "total = 0\n",
    "data = df[df[\"dataset\"] == 'II'][\"y\"]\n",
    "#print(f\"{data}\")\n",
    "for data in data:\n",
    "    sum += data\n",
    "    total = n\n",
    "avg2 = sum / total\n",
    "f\"The mean for column y in quadrant II is {avg2}\""
   ]
  },
  {
   "cell_type": "code",
   "execution_count": 15,
   "id": "2dcc4e47-95de-4b0f-b6af-b8e053822826",
   "metadata": {},
   "outputs": [
    {
     "data": {
      "text/plain": [
       "'The average for both datasets is 2.110581395348837 in quadrant II'"
      ]
     },
     "execution_count": 15,
     "metadata": {},
     "output_type": "execute_result"
    }
   ],
   "source": [
    "avg3 = (avg1 + avg2) / 2\n",
    "f\"The average for both datasets is {avg3} in quadrant II\""
   ]
  },
  {
   "cell_type": "markdown",
   "id": "5af41d4a-4cf2-48eb-a04e-5f7c2fbeaa53",
   "metadata": {},
   "source": [
    "Dataset 3"
   ]
  },
  {
   "cell_type": "code",
   "execution_count": 16,
   "id": "312a082c-8b70-4263-8c28-acfa00853584",
   "metadata": {},
   "outputs": [
    {
     "data": {
      "text/plain": [
       "'The mean for column x in quadrant III is 2.302325581395349'"
      ]
     },
     "execution_count": 16,
     "metadata": {},
     "output_type": "execute_result"
    }
   ],
   "source": [
    "sum = 0\n",
    "total = 0\n",
    "data = df[df[\"dataset\"] == 'III'][\"x\"]\n",
    "#print(f\"{data}\")\n",
    "for data in data:\n",
    "    sum += data\n",
    "    total = n\n",
    "avg1 = sum / total\n",
    "f\"The mean for column x in quadrant III is {avg1}\""
   ]
  },
  {
   "cell_type": "code",
   "execution_count": 17,
   "id": "4a7a2613-0943-4b4b-b4ea-19d5acfa1f02",
   "metadata": {},
   "outputs": [
    {
     "data": {
      "text/plain": [
       "'The mean for column y in quadrant III is 2.302325581395349'"
      ]
     },
     "execution_count": 17,
     "metadata": {},
     "output_type": "execute_result"
    }
   ],
   "source": [
    "sum = 0\n",
    "total = 0\n",
    "data = df[df[\"dataset\"] == 'III'][\"x\"]\n",
    "#print(f\"{data}\")\n",
    "for data in data:\n",
    "    sum += data\n",
    "    total = n\n",
    "avg2 = sum / total\n",
    "f\"The mean for column y in quadrant III is {avg2}\""
   ]
  },
  {
   "cell_type": "code",
   "execution_count": 18,
   "id": "6b1ce001-60fc-487a-9332-2a0b6867a872",
   "metadata": {},
   "outputs": [
    {
     "data": {
      "text/plain": [
       "'The average for both datasets is 2.302325581395349 in quadrant III'"
      ]
     },
     "execution_count": 18,
     "metadata": {},
     "output_type": "execute_result"
    }
   ],
   "source": [
    "avg3 = (avg1 + avg2) / 2\n",
    "f\"The average for both datasets is {avg3} in quadrant III\""
   ]
  },
  {
   "cell_type": "markdown",
   "id": "e95398aa-5dad-4907-bdb4-2d1c4c5cd4c6",
   "metadata": {},
   "source": [
    "Dataset 4"
   ]
  },
  {
   "cell_type": "code",
   "execution_count": 19,
   "id": "90c3b967-e48a-4313-bc65-6063c0dc91e3",
   "metadata": {},
   "outputs": [
    {
     "data": {
      "text/plain": [
       "'The mean for column x in quadrant IV is 2.302325581395349'"
      ]
     },
     "execution_count": 19,
     "metadata": {},
     "output_type": "execute_result"
    }
   ],
   "source": [
    "sum = 0\n",
    "total = 0\n",
    "data = df[df[\"dataset\"] == 'IV'][\"x\"]\n",
    "#print(f\"{data}\")\n",
    "for data in data:\n",
    "    sum += data\n",
    "    total = n\n",
    "avg1 = sum / total\n",
    "f\"The mean for column x in quadrant IV is {avg1}\""
   ]
  },
  {
   "cell_type": "code",
   "execution_count": 20,
   "id": "62d3c6b3-0318-49fa-b822-63a54d73ac91",
   "metadata": {},
   "outputs": [
    {
     "data": {
      "text/plain": [
       "'The mean for column x in quadrant I is 1.9188372093023254'"
      ]
     },
     "execution_count": 20,
     "metadata": {},
     "output_type": "execute_result"
    }
   ],
   "source": [
    "sum = 0\n",
    "total = 0\n",
    "data = df[df[\"dataset\"] == 'IV'][\"y\"]\n",
    "#print(f\"{data}\")\n",
    "for data in data:\n",
    "    sum += data\n",
    "    total = n\n",
    "avg2 = sum / total\n",
    "f\"The mean for column x in quadrant I is {avg2}\""
   ]
  },
  {
   "cell_type": "code",
   "execution_count": 21,
   "id": "38cf816c-36a8-4431-8c72-5f5eea23db6b",
   "metadata": {},
   "outputs": [
    {
     "data": {
      "text/plain": [
       "'The average for both datasets is 2.110581395348837 in quadrant III'"
      ]
     },
     "execution_count": 21,
     "metadata": {},
     "output_type": "execute_result"
    }
   ],
   "source": [
    "avg3 = (avg1 + avg2) / 2\n",
    "f\"The average for both datasets is {avg3} in quadrant III\""
   ]
  },
  {
   "cell_type": "code",
   "execution_count": 22,
   "id": "24f46695-f8e4-46cd-a978-34581e8d8c06",
   "metadata": {},
   "outputs": [
    {
     "name": "stderr",
     "output_type": "stream",
     "text": [
      "<>:8: SyntaxWarning: list indices must be integers or slices, not str; perhaps you missed a comma?\n",
      "<>:8: SyntaxWarning: list indices must be integers or slices, not str; perhaps you missed a comma?\n",
      "C:\\Users\\Olivia's PC\\AppData\\Local\\Temp\\ipykernel_15960\\103447803.py:8: SyntaxWarning: list indices must be integers or slices, not str; perhaps you missed a comma?\n",
      "  [df[df[\"dataset\"] == 'IV']][\"y\"]\n",
      "C:\\Users\\Olivia's PC\\AppData\\Local\\Temp\\ipykernel_15960\\103447803.py:8: SyntaxWarning: list indices must be integers or slices, not str; perhaps you missed a comma?\n",
      "  [df[df[\"dataset\"] == 'IV']][\"y\"]\n",
      "C:\\Users\\Olivia's PC\\AppData\\Local\\Temp\\ipykernel_15960\\103447803.py:8: SyntaxWarning: list indices must be integers or slices, not str; perhaps you missed a comma?\n",
      "  [df[df[\"dataset\"] == 'IV']][\"y\"]\n",
      "C:\\Users\\Olivia's PC\\AppData\\Local\\Temp\\ipykernel_15960\\103447803.py:8: SyntaxWarning: list indices must be integers or slices, not str; perhaps you missed a comma?\n",
      "  [df[df[\"dataset\"] == 'IV']][\"y\"]\n",
      "C:\\Users\\Olivia's PC\\AppData\\Local\\Temp\\ipykernel_15960\\103447803.py:8: SyntaxWarning: list indices must be integers or slices, not str; perhaps you missed a comma?\n",
      "  [df[df[\"dataset\"] == 'IV']][\"y\"]\n"
     ]
    },
    {
     "ename": "TypeError",
     "evalue": "list indices must be integers or slices, not str",
     "output_type": "error",
     "traceback": [
      "\u001b[1;31m---------------------------------------------------------------------------\u001b[0m",
      "\u001b[1;31mTypeError\u001b[0m                                 Traceback (most recent call last)",
      "Cell \u001b[1;32mIn[22], line 8\u001b[0m\n\u001b[0;32m      6\u001b[0m \u001b[38;5;28;01mfor\u001b[39;00m quadrant \u001b[38;5;129;01min\u001b[39;00m quadrants:\n\u001b[0;32m      7\u001b[0m     \u001b[38;5;28;01mfor\u001b[39;00m column \u001b[38;5;129;01min\u001b[39;00m columns:\n\u001b[1;32m----> 8\u001b[0m         \u001b[43m[\u001b[49m\u001b[43mdf\u001b[49m\u001b[43m[\u001b[49m\u001b[43mdf\u001b[49m\u001b[43m[\u001b[49m\u001b[38;5;124;43m\"\u001b[39;49m\u001b[38;5;124;43mdataset\u001b[39;49m\u001b[38;5;124;43m\"\u001b[39;49m\u001b[43m]\u001b[49m\u001b[43m \u001b[49m\u001b[38;5;241;43m==\u001b[39;49m\u001b[43m \u001b[49m\u001b[38;5;124;43m'\u001b[39;49m\u001b[38;5;124;43mIV\u001b[39;49m\u001b[38;5;124;43m'\u001b[39;49m\u001b[43m]\u001b[49m\u001b[43m]\u001b[49m\u001b[43m[\u001b[49m\u001b[38;5;124;43m\"\u001b[39;49m\u001b[38;5;124;43my\u001b[39;49m\u001b[38;5;124;43m\"\u001b[39;49m\u001b[43m]\u001b[49m\n",
      "\u001b[1;31mTypeError\u001b[0m: list indices must be integers or slices, not str"
     ]
    }
   ],
   "source": [
    "import statistics\n",
    "sum = 0\n",
    "total = 0\n",
    "quadrants = ['I', 'II', 'III', 'IV']\n",
    "columns = ['x', 'y']\n",
    "for quadrant in quadrants:\n",
    "    for column in columns:\n",
    "        [df[df[\"dataset\"] == 'IV']][\"y\"]"
   ]
  },
  {
   "cell_type": "markdown",
   "id": "9ab9f56d-6340-404c-8424-db9ceb3dcc5c",
   "metadata": {},
   "source": [
    "5. Graph each dataset (I-IV) using px.scatter()"
   ]
  },
  {
   "cell_type": "code",
   "execution_count": null,
   "id": "b4e760fc-544a-4d5b-a7f8-6106625c59b7",
   "metadata": {},
   "outputs": [],
   "source": [
    "import plotly.express as px\n",
    "data = df[df[\"dataset\"] == 'I']\n",
    "fig = px.scatter(data, x = \"x\", y = \"y\", title = \"Dataset I\")\n",
    "fig.show()"
   ]
  },
  {
   "cell_type": "code",
   "execution_count": null,
   "id": "e699d52d-4d78-4899-b2de-ff4efc3fb527",
   "metadata": {},
   "outputs": [],
   "source": [
    "import plotly.express as px\n",
    "data = df[df[\"dataset\"] == 'II']\n",
    "fig = px.scatter(data, x = \"x\", y = \"y\", title = \"Dataset II\")\n",
    "fig.show()"
   ]
  },
  {
   "cell_type": "code",
   "execution_count": null,
   "id": "33ca011d-3df9-42aa-9225-1f9781ec4152",
   "metadata": {},
   "outputs": [],
   "source": [
    "import plotly.express as px\n",
    "data = df[df[\"dataset\"] == 'III']\n",
    "fig = px.scatter(data, x = \"x\", y = \"y\", title = \"Dataset III\")\n",
    "fig.show()"
   ]
  },
  {
   "cell_type": "code",
   "execution_count": null,
   "id": "fb1fa9be-4c2d-42a1-8eb2-8753fcf44305",
   "metadata": {},
   "outputs": [],
   "source": [
    "import plotly.express as px\n",
    "data = df[df[\"dataset\"] == 'IV']\n",
    "fig = px.scatter(data, x = \"x\", y = \"y\", title = \"Dataset IV\")\n",
    "fig.show()"
   ]
  },
  {
   "cell_type": "markdown",
   "id": "b36b30f1-347a-4147-94af-848f52370732",
   "metadata": {},
   "source": [
    "## Summary"
   ]
  },
  {
   "cell_type": "markdown",
   "id": "ecde2ec1-6624-4e81-8de7-ec0320150a13",
   "metadata": {},
   "source": [
    "I learned the following from this assignment:\n",
    "1. how to...\n",
    "2. how to...\n",
    "3. how to..."
   ]
  }
 ],
 "metadata": {
  "kernelspec": {
   "display_name": "Python 3 (ipykernel)",
   "language": "python",
   "name": "python3"
  },
  "language_info": {
   "codemirror_mode": {
    "name": "ipython",
    "version": 3
   },
   "file_extension": ".py",
   "mimetype": "text/x-python",
   "name": "python",
   "nbconvert_exporter": "python",
   "pygments_lexer": "ipython3",
   "version": "3.8.16"
  }
 },
 "nbformat": 4,
 "nbformat_minor": 5
}
