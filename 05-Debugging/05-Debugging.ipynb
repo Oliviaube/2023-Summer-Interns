{
 "cells": [
  {
   "cell_type": "markdown",
   "id": "ad0b577e-bca6-4a93-8a41-8168bec306cd",
   "metadata": {},
   "source": [
    "# Debugging"
   ]
  },
  {
   "cell_type": "markdown",
   "id": "0386dbee-4a1a-4b6b-9677-655cbbce2091",
   "metadata": {},
   "source": [
    "## Assignment\n",
    "Complete the following code cells by adding appropriate print statements, which will help identify the source of the problem. \n",
    "\n",
    "**Don't solve the problem, add a print statement which will help solve the problem.**"
   ]
  },
  {
   "cell_type": "markdown",
   "id": "25ead294-73d7-4888-96d9-c2c21e1c814a",
   "metadata": {},
   "source": [
    "## Functions to Consider"
   ]
  },
  {
   "cell_type": "markdown",
   "id": "01ae11d2-4d2b-41a5-b82b-43ea97cf5877",
   "metadata": {},
   "source": [
    "- Print statements"
   ]
  },
  {
   "cell_type": "markdown",
   "id": "ea1f0572-6094-4063-9325-bbf946b3a3f3",
   "metadata": {},
   "source": [
    "## Example\n",
    "### Problem\n",
    "Notice that when the cell is run, it has a *TypeError:* *can't multiply sequence by non-int of type 'str'*"
   ]
  },
  {
   "cell_type": "code",
   "execution_count": 1,
   "id": "085cac8f-caab-402d-a113-ead4eca4a788",
   "metadata": {},
   "outputs": [
    {
     "name": "stdin",
     "output_type": "stream",
     "text": [
      "Give me a number to square 4\n"
     ]
    },
    {
     "ename": "TypeError",
     "evalue": "can't multiply sequence by non-int of type 'str'",
     "output_type": "error",
     "traceback": [
      "\u001b[1;31m---------------------------------------------------------------------------\u001b[0m",
      "\u001b[1;31mTypeError\u001b[0m                                 Traceback (most recent call last)",
      "Cell \u001b[1;32mIn[1], line 2\u001b[0m\n\u001b[0;32m      1\u001b[0m num \u001b[38;5;241m=\u001b[39m \u001b[38;5;28minput\u001b[39m(\u001b[38;5;124m\"\u001b[39m\u001b[38;5;124mGive me a number to square\u001b[39m\u001b[38;5;124m\"\u001b[39m)\n\u001b[1;32m----> 2\u001b[0m squared \u001b[38;5;241m=\u001b[39m \u001b[43mnum\u001b[49m\u001b[43m \u001b[49m\u001b[38;5;241;43m*\u001b[39;49m\u001b[43m \u001b[49m\u001b[43mnum\u001b[49m\n",
      "\u001b[1;31mTypeError\u001b[0m: can't multiply sequence by non-int of type 'str'"
     ]
    }
   ],
   "source": [
    "num = input(\"Give me a number to square\")\n",
    "squared = num * num"
   ]
  },
  {
   "cell_type": "markdown",
   "id": "d57c3903-4412-4feb-bee7-021fe9569996",
   "metadata": {},
   "source": [
    "### Solution\n",
    "There are two solutions, the first is a simple *print()* statement and the better solution would be a *print(type())* statement."
   ]
  },
  {
   "cell_type": "code",
   "execution_count": 2,
   "id": "6a2001ff-e463-41fc-ab78-c761a9665b6d",
   "metadata": {},
   "outputs": [
    {
     "name": "stdin",
     "output_type": "stream",
     "text": [
      "Give me a number to square 4\n"
     ]
    },
    {
     "name": "stdout",
     "output_type": "stream",
     "text": [
      "num='4'\n"
     ]
    },
    {
     "ename": "TypeError",
     "evalue": "can't multiply sequence by non-int of type 'str'",
     "output_type": "error",
     "traceback": [
      "\u001b[1;31m---------------------------------------------------------------------------\u001b[0m",
      "\u001b[1;31mTypeError\u001b[0m                                 Traceback (most recent call last)",
      "Cell \u001b[1;32mIn[2], line 3\u001b[0m\n\u001b[0;32m      1\u001b[0m num \u001b[38;5;241m=\u001b[39m \u001b[38;5;28minput\u001b[39m(\u001b[38;5;124m\"\u001b[39m\u001b[38;5;124mGive me a number to square\u001b[39m\u001b[38;5;124m\"\u001b[39m)\n\u001b[0;32m      2\u001b[0m \u001b[38;5;28mprint\u001b[39m(\u001b[38;5;124mf\u001b[39m\u001b[38;5;124m\"\u001b[39m\u001b[38;5;132;01m{\u001b[39;00mnum\u001b[38;5;132;01m=}\u001b[39;00m\u001b[38;5;124m\"\u001b[39m)\n\u001b[1;32m----> 3\u001b[0m squared \u001b[38;5;241m=\u001b[39m \u001b[43mnum\u001b[49m\u001b[43m \u001b[49m\u001b[38;5;241;43m*\u001b[39;49m\u001b[43m \u001b[49m\u001b[43mnum\u001b[49m\n",
      "\u001b[1;31mTypeError\u001b[0m: can't multiply sequence by non-int of type 'str'"
     ]
    }
   ],
   "source": [
    "num = input(\"Give me a number to square\")\n",
    "print(f\"{num=}\")\n",
    "squared = num * num"
   ]
  },
  {
   "cell_type": "code",
   "execution_count": 3,
   "id": "91ce365c-839f-4dc1-ac68-f371d237bf81",
   "metadata": {},
   "outputs": [
    {
     "name": "stdin",
     "output_type": "stream",
     "text": [
      "Give me a number to square 4\n"
     ]
    },
    {
     "name": "stdout",
     "output_type": "stream",
     "text": [
      "type(num)=<class 'str'>\n"
     ]
    },
    {
     "ename": "TypeError",
     "evalue": "can't multiply sequence by non-int of type 'str'",
     "output_type": "error",
     "traceback": [
      "\u001b[1;31m---------------------------------------------------------------------------\u001b[0m",
      "\u001b[1;31mTypeError\u001b[0m                                 Traceback (most recent call last)",
      "Cell \u001b[1;32mIn[3], line 3\u001b[0m\n\u001b[0;32m      1\u001b[0m num \u001b[38;5;241m=\u001b[39m \u001b[38;5;28minput\u001b[39m(\u001b[38;5;124m\"\u001b[39m\u001b[38;5;124mGive me a number to square\u001b[39m\u001b[38;5;124m\"\u001b[39m)\n\u001b[0;32m      2\u001b[0m \u001b[38;5;28mprint\u001b[39m(\u001b[38;5;124mf\u001b[39m\u001b[38;5;124m\"\u001b[39m\u001b[38;5;132;01m{\u001b[39;00m\u001b[38;5;28mtype\u001b[39m(num)\u001b[38;5;132;01m=}\u001b[39;00m\u001b[38;5;124m\"\u001b[39m)\n\u001b[1;32m----> 3\u001b[0m squared \u001b[38;5;241m=\u001b[39m \u001b[43mnum\u001b[49m\u001b[43m \u001b[49m\u001b[38;5;241;43m*\u001b[39;49m\u001b[43m \u001b[49m\u001b[43mnum\u001b[49m\n",
      "\u001b[1;31mTypeError\u001b[0m: can't multiply sequence by non-int of type 'str'"
     ]
    }
   ],
   "source": [
    "num = input(\"Give me a number to square\")\n",
    "print(f\"{type(num)=}\")\n",
    "squared = num * num"
   ]
  },
  {
   "cell_type": "markdown",
   "id": "3b92ddc8-2ee6-41de-b33b-9f1edbb4791d",
   "metadata": {},
   "source": [
    "------------------------------------------------------"
   ]
  },
  {
   "cell_type": "markdown",
   "id": "33127c8d-3816-4be9-b258-664b6966c76a",
   "metadata": {},
   "source": [
    "## Program\n",
    "Add a print statement to resolve the *\"Show why...\"*. **Do not solve the problem!**\n",
    "\n",
    "Data Cell below must be executed for the remaining cells to execute."
   ]
  },
  {
   "cell_type": "code",
   "execution_count": 5,
   "id": "1d9f6e1c-bf28-45ba-a1ac-3000f72ce5a4",
   "metadata": {},
   "outputs": [],
   "source": [
    "# Data Cell for problems:\n",
    "table = {\n",
    "   \"fruits\": [\"snack\", \"meal\", \"day\"],\n",
    "   \"apple\": [],\n",
    "   \"banana\": [],\n",
    "   \"orange\": [],\n",
    "    \"grape\": []\n",
    "}\n",
    "alist = [1, 2, 3, 4]\n",
    "x = 10\n",
    "j = 1\n",
    "k = 10\n",
    "l = -1\n",
    "i_multiples = []\n",
    "fruit = 'kiwi'"
   ]
  },
  {
   "cell_type": "markdown",
   "id": "5066c2de-9df1-4a25-89ef-e320bef90f61",
   "metadata": {},
   "source": [
    "1. Show why line 2 has an `unsupported operand type`"
   ]
  },
  {
   "cell_type": "code",
   "execution_count": 7,
   "id": "7bb178bc-2349-455f-9f64-6c6c796da000",
   "metadata": {},
   "outputs": [
    {
     "name": "stdout",
     "output_type": "stream",
     "text": [
      "alist = [1, 2, 3, 4]\n"
     ]
    },
    {
     "ename": "TypeError",
     "evalue": "unsupported operand type(s) for ** or pow(): 'list' and 'int'",
     "output_type": "error",
     "traceback": [
      "\u001b[1;31m---------------------------------------------------------------------------\u001b[0m",
      "\u001b[1;31mTypeError\u001b[0m                                 Traceback (most recent call last)",
      "Cell \u001b[1;32mIn[7], line 2\u001b[0m\n\u001b[0;32m      1\u001b[0m \u001b[38;5;28mprint\u001b[39m(\u001b[38;5;124mf\u001b[39m\u001b[38;5;124m\"\u001b[39m\u001b[38;5;132;01m{\u001b[39;00malist\u001b[38;5;250m \u001b[39m\u001b[38;5;132;01m= }\u001b[39;00m\u001b[38;5;124m\"\u001b[39m)\n\u001b[1;32m----> 2\u001b[0m power_of_a \u001b[38;5;241m=\u001b[39m \u001b[43malist\u001b[49m\u001b[43m \u001b[49m\u001b[38;5;241;43m*\u001b[39;49m\u001b[38;5;241;43m*\u001b[39;49m\u001b[43m \u001b[49m\u001b[38;5;241;43m2\u001b[39;49m\n",
      "\u001b[1;31mTypeError\u001b[0m: unsupported operand type(s) for ** or pow(): 'list' and 'int'"
     ]
    }
   ],
   "source": [
    "print(f\"{alist = }\")\n",
    "power_of_a = alist ** 2"
   ]
  },
  {
   "cell_type": "markdown",
   "id": "e2c287ec-471d-49cf-a080-78ab13b490f7",
   "metadata": {},
   "source": [
    "2. Show why line 2 has an `has no attribute 'stddev'`"
   ]
  },
  {
   "cell_type": "code",
   "execution_count": 12,
   "id": "a9c8cc4c-ea84-48d4-a46f-2506b4970ac0",
   "metadata": {},
   "outputs": [
    {
     "name": "stdout",
     "output_type": "stream",
     "text": [
      "statistics = <module 'statistics' from 'C:\\\\JupyterLab\\\\Python\\\\lib\\\\statistics.py'>\n"
     ]
    },
    {
     "ename": "AttributeError",
     "evalue": "module 'statistics' has no attribute 'stddev'",
     "output_type": "error",
     "traceback": [
      "\u001b[1;31m---------------------------------------------------------------------------\u001b[0m",
      "\u001b[1;31mAttributeError\u001b[0m                            Traceback (most recent call last)",
      "Cell \u001b[1;32mIn[12], line 3\u001b[0m\n\u001b[0;32m      1\u001b[0m \u001b[38;5;28;01mimport\u001b[39;00m \u001b[38;5;21;01mstatistics\u001b[39;00m\n\u001b[0;32m      2\u001b[0m \u001b[38;5;28mprint\u001b[39m(\u001b[38;5;124mf\u001b[39m\u001b[38;5;124m\"\u001b[39m\u001b[38;5;132;01m{\u001b[39;00mstatistics\u001b[38;5;250m \u001b[39m\u001b[38;5;132;01m= }\u001b[39;00m\u001b[38;5;124m\"\u001b[39m)\n\u001b[1;32m----> 3\u001b[0m \u001b[38;5;28mprint\u001b[39m(\u001b[43mstatistics\u001b[49m\u001b[38;5;241;43m.\u001b[39;49m\u001b[43mstddev\u001b[49m(alist))\n",
      "\u001b[1;31mAttributeError\u001b[0m: module 'statistics' has no attribute 'stddev'"
     ]
    }
   ],
   "source": [
    "import statistics\n",
    "print(f\"{statistics = }\")\n",
    "print(statistics.stddev(alist))"
   ]
  },
  {
   "cell_type": "markdown",
   "id": "8f0a03c5-625f-450f-b795-adfeac66a431",
   "metadata": {},
   "source": [
    "3. Show why line 3 has a `list index out of range`"
   ]
  },
  {
   "cell_type": "code",
   "execution_count": 15,
   "id": "b01681bd-b63b-4733-9bc1-9b135174db14",
   "metadata": {},
   "outputs": [
    {
     "name": "stdout",
     "output_type": "stream",
     "text": [
      "blist = []\n",
      "blist = [4]\n",
      "blist = [4, 8]\n",
      "blist = [4, 8, 12]\n",
      "blist = [4, 8, 12, 16]\n"
     ]
    },
    {
     "ename": "IndexError",
     "evalue": "list index out of range",
     "output_type": "error",
     "traceback": [
      "\u001b[1;31m---------------------------------------------------------------------------\u001b[0m",
      "\u001b[1;31mIndexError\u001b[0m                                Traceback (most recent call last)",
      "Cell \u001b[1;32mIn[15], line 4\u001b[0m\n\u001b[0;32m      2\u001b[0m \u001b[38;5;28;01mfor\u001b[39;00m i \u001b[38;5;129;01min\u001b[39;00m \u001b[38;5;28mrange\u001b[39m(\u001b[38;5;241m5\u001b[39m):\n\u001b[0;32m      3\u001b[0m     \u001b[38;5;28mprint\u001b[39m(\u001b[38;5;124mf\u001b[39m\u001b[38;5;124m\"\u001b[39m\u001b[38;5;132;01m{\u001b[39;00mblist\u001b[38;5;250m \u001b[39m\u001b[38;5;132;01m= }\u001b[39;00m\u001b[38;5;124m\"\u001b[39m)\n\u001b[1;32m----> 4\u001b[0m     blist\u001b[38;5;241m.\u001b[39mappend(\u001b[43malist\u001b[49m\u001b[43m[\u001b[49m\u001b[43mi\u001b[49m\u001b[43m]\u001b[49m \u001b[38;5;241m*\u001b[39m \u001b[38;5;241m4\u001b[39m)\n",
      "\u001b[1;31mIndexError\u001b[0m: list index out of range"
     ]
    }
   ],
   "source": [
    "blist = []\n",
    "for i in range(5):\n",
    "    print(f\"{blist = }\")\n",
    "    blist.append(alist[i] * 4)"
   ]
  },
  {
   "cell_type": "markdown",
   "id": "575e4265-c5af-4f1e-a87d-418f8b411278",
   "metadata": {},
   "source": [
    "4. Show why every other number in *blist* is a 0."
   ]
  },
  {
   "cell_type": "code",
   "execution_count": 21,
   "id": "aefcc870-8f90-4876-93b5-5f7e0eb668d1",
   "metadata": {},
   "outputs": [
    {
     "name": "stdout",
     "output_type": "stream",
     "text": [
      "i = 0\n",
      "i = 1\n",
      "i = 2\n",
      "i = 3\n",
      "[0, 1, 0, 2, 0, 3, 0, 4]\n"
     ]
    }
   ],
   "source": [
    "blist = []\n",
    "for i in range(4):\n",
    "    print(f\"{i = }\")\n",
    "    for j in range(2):\n",
    "        #print(f\"{j = }\")\n",
    "        blist.append(alist[i] * j)\n",
    "#print(f\"{alist = }\")\n",
    "print(f\"{blist}\")"
   ]
  },
  {
   "cell_type": "markdown",
   "id": "3168bbed-2ca9-4be6-bbc2-24d4f10b4180",
   "metadata": {},
   "source": [
    "5. The desired result is 100 divided by an integer ranging from 10 to 1. Show why the print statement isn't printing the correct results."
   ]
  },
  {
   "cell_type": "code",
   "execution_count": 24,
   "id": "f950e082-ede1-40a4-b927-a84a260b72b8",
   "metadata": {},
   "outputs": [
    {
     "name": "stdout",
     "output_type": "stream",
     "text": [
      "x = 10\n",
      "x = 10\n",
      "x = 10\n",
      "x = 10\n",
      "x = 10\n",
      "x = 10\n",
      "x = 10\n",
      "x = 10\n",
      "x = 10\n",
      "x = 10\n"
     ]
    }
   ],
   "source": [
    "for i in range(x, 0, -1):\n",
    "    print(f\"{x = }\")\n",
    "    #print(f\"{100/x}\")"
   ]
  },
  {
   "cell_type": "markdown",
   "id": "f73a6418-4871-4454-946f-40ca82f5e0ac",
   "metadata": {},
   "source": [
    "6. Show why *table* has a `KeyError`."
   ]
  },
  {
   "cell_type": "code",
   "execution_count": 33,
   "id": "b814e0ab-cddc-4cfe-9ec5-9e4ff69d868e",
   "metadata": {},
   "outputs": [],
   "source": [
    "#print(f\"{grapes = }\")\n",
    "table['grape'].append(5)\n",
    "#didn't work because grape was defined as \"grapes\". "
   ]
  },
  {
   "cell_type": "markdown",
   "id": "433a0ab4-4267-43a5-8f45-2bd0db34216b",
   "metadata": {},
   "source": [
    "7. Show why *sum* isn't adding correctly. Make sure the Data cell above has been executed properly."
   ]
  },
  {
   "cell_type": "code",
   "execution_count": 34,
   "id": "50edcf16-e4a2-4561-b6e0-dddf0e14a14d",
   "metadata": {},
   "outputs": [
    {
     "ename": "TypeError",
     "evalue": "unsupported operand type(s) for +=: 'builtin_function_or_method' and 'int'",
     "output_type": "error",
     "traceback": [
      "\u001b[1;31m---------------------------------------------------------------------------\u001b[0m",
      "\u001b[1;31mTypeError\u001b[0m                                 Traceback (most recent call last)",
      "Cell \u001b[1;32mIn[34], line 3\u001b[0m\n\u001b[0;32m      1\u001b[0m \u001b[38;5;28;01mfor\u001b[39;00m i \u001b[38;5;129;01min\u001b[39;00m \u001b[38;5;28mrange\u001b[39m(\u001b[38;5;241m5\u001b[39m):\n\u001b[0;32m      2\u001b[0m     \u001b[38;5;66;03m#print(f\"{x = }\")\u001b[39;00m\n\u001b[1;32m----> 3\u001b[0m     \u001b[38;5;28msum\u001b[39m \u001b[38;5;241m+\u001b[39m\u001b[38;5;241m=\u001b[39m x\n\u001b[0;32m      4\u001b[0m \u001b[38;5;28mprint\u001b[39m(\u001b[38;5;124mf\u001b[39m\u001b[38;5;124m\"\u001b[39m\u001b[38;5;132;01m{\u001b[39;00m\u001b[38;5;28msum\u001b[39m\u001b[38;5;132;01m}\u001b[39;00m\u001b[38;5;124m\"\u001b[39m)\n",
      "\u001b[1;31mTypeError\u001b[0m: unsupported operand type(s) for +=: 'builtin_function_or_method' and 'int'"
     ]
    }
   ],
   "source": [
    "for i in range(5):\n",
    "    #print(f\"{x = }\")\n",
    "    sum += x\n",
    "print(f\"{sum}\")"
   ]
  },
  {
   "cell_type": "markdown",
   "id": "a4b813ac-6b44-4198-824f-58b5d6d0f20c",
   "metadata": {},
   "source": [
    "8. For values of i from 0 to 4, *total* will always equal 50, however it doesn't. Add a print statement to show why."
   ]
  },
  {
   "cell_type": "code",
   "execution_count": 38,
   "id": "925b67ff-ab12-4a4b-822e-ccd7ace18b3b",
   "metadata": {},
   "outputs": [
    {
     "ename": "NameError",
     "evalue": "name 'total' is not defined",
     "output_type": "error",
     "traceback": [
      "\u001b[1;31m---------------------------------------------------------------------------\u001b[0m",
      "\u001b[1;31mNameError\u001b[0m                                 Traceback (most recent call last)",
      "Cell \u001b[1;32mIn[38], line 2\u001b[0m\n\u001b[0;32m      1\u001b[0m \u001b[38;5;28;01mfor\u001b[39;00m i \u001b[38;5;129;01min\u001b[39;00m \u001b[38;5;28mrange\u001b[39m(\u001b[38;5;241m5\u001b[39m):\n\u001b[1;32m----> 2\u001b[0m     total \u001b[38;5;241m+\u001b[39m\u001b[38;5;241m=\u001b[39m x\n\u001b[0;32m      3\u001b[0m     \u001b[38;5;28mprint\u001b[39m(\u001b[38;5;124mf\u001b[39m\u001b[38;5;124m\"\u001b[39m\u001b[38;5;132;01m{\u001b[39;00mtotal\u001b[38;5;250m \u001b[39m\u001b[38;5;132;01m= }\u001b[39;00m\u001b[38;5;124m\"\u001b[39m)\n\u001b[0;32m      4\u001b[0m \u001b[38;5;28mprint\u001b[39m(\u001b[38;5;124mf\u001b[39m\u001b[38;5;124m\"\u001b[39m\u001b[38;5;132;01m{\u001b[39;00mtotal\u001b[38;5;132;01m}\u001b[39;00m\u001b[38;5;124m\"\u001b[39m)\n",
      "\u001b[1;31mNameError\u001b[0m: name 'total' is not defined"
     ]
    }
   ],
   "source": [
    "for i in range(5):\n",
    "    total += x\n",
    "    print(f\"{total = }\")\n",
    "print(f\"{total}\")"
   ]
  },
  {
   "cell_type": "markdown",
   "id": "1e45a0e3-781a-46d2-ba1c-524d8785588c",
   "metadata": {},
   "source": [
    "9. The loop isn't executing properly, show why it isn't."
   ]
  },
  {
   "cell_type": "code",
   "execution_count": null,
   "id": "52d0d435-ae4b-4dc1-95de-44941accf7f6",
   "metadata": {},
   "outputs": [],
   "source": [
    "for i in range(j, k, l):\n",
    "    i_multiples.append(i * l)\n",
    "print(f\"{i_multiples}\")"
   ]
  },
  {
   "cell_type": "markdown",
   "id": "d1cfa462-72f3-4dd6-887b-a32083629c71",
   "metadata": {},
   "source": [
    "10. Show why *table* has a `KeyError`. *Hint: You need to know 2 things.*"
   ]
  },
  {
   "cell_type": "code",
   "execution_count": null,
   "id": "4ec0a8ae-c1aa-402d-ac3f-8ed8522dd063",
   "metadata": {},
   "outputs": [],
   "source": [
    "table[fruit].append(10, 20, 40)"
   ]
  }
 ],
 "metadata": {
  "kernelspec": {
   "display_name": "Python 3 (ipykernel)",
   "language": "python",
   "name": "python3"
  },
  "language_info": {
   "codemirror_mode": {
    "name": "ipython",
    "version": 3
   },
   "file_extension": ".py",
   "mimetype": "text/x-python",
   "name": "python",
   "nbconvert_exporter": "python",
   "pygments_lexer": "ipython3",
   "version": "3.8.16"
  }
 },
 "nbformat": 4,
 "nbformat_minor": 5
}
