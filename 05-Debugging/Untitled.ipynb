{
 "cells": [
  {
   "cell_type": "markdown",
   "id": "ef5ba036-2db6-4377-a000-b71932fc4f57",
   "metadata": {},
   "source": [
    "# 05-Debugging"
   ]
  },
  {
   "cell_type": "markdown",
   "id": "54bdca41-5aef-4fcc-8819-782354a352b4",
   "metadata": {},
   "source": [
    "Complete the following code cells by adding appropriate print statements, which will help identify the source of the problem."
   ]
  },
  {
   "cell_type": "markdown",
   "id": "e1cc282a-c354-419a-84e4-01310e9cb00e",
   "metadata": {},
   "source": [
    "## Functions to Consider"
   ]
  },
  {
   "cell_type": "markdown",
   "id": "e71d9646-a795-480f-a74c-92efff07e658",
   "metadata": {},
   "source": [
    "- Print statements"
   ]
  },
  {
   "cell_type": "markdown",
   "id": "a98b6e74-5c9e-4a37-826d-0f71a9a0e7b3",
   "metadata": {},
   "source": [
    "## Algorithm"
   ]
  },
  {
   "cell_type": "markdown",
   "id": "1eeeb2cd-3c65-4784-b0f6-9a775f6c4305",
   "metadata": {},
   "source": [
    "1. Write here\n",
    "2. write here\n",
    "3. write here"
   ]
  },
  {
   "cell_type": "markdown",
   "id": "37309be4-1cc4-4b04-82bd-47e732638ddb",
   "metadata": {},
   "source": [
    "## Program"
   ]
  },
  {
   "cell_type": "code",
   "execution_count": null,
   "id": "26774fb5-ad4e-428e-9051-f376139f5b87",
   "metadata": {},
   "outputs": [],
   "source": [
    "table = {\n",
    "   \"fruits\": [\"snack\", \"meal\", \"day\"],\n",
    "   \"apple\": [],\n",
    "   \"banana\": [],\n",
    "   \"orange\": [],\n",
    "    \"grape\": []\n",
    "}\n",
    "alist = [1, 2, 3, 4]\n",
    "x = 10\n",
    "j = 1\n",
    "k = 10\n",
    "l = -1\n",
    "i_multiples = []\n",
    "fruit = 'kiwi'"
   ]
  },
  {
   "cell_type": "markdown",
   "id": "464cabd1-5103-417c-99b0-a360d5f2518a",
   "metadata": {},
   "source": [
    "1. Show why line 2 has an unsupported operand type"
   ]
  },
  {
   "cell_type": "code",
   "execution_count": null,
   "id": "8cc819f1-8b11-4ecd-befc-d0db37934e5b",
   "metadata": {},
   "outputs": [],
   "source": [
    "power_of_a = alist ** 2"
   ]
  }
 ],
 "metadata": {
  "kernelspec": {
   "display_name": "Python 3 (ipykernel)",
   "language": "python",
   "name": "python3"
  },
  "language_info": {
   "codemirror_mode": {
    "name": "ipython",
    "version": 3
   },
   "file_extension": ".py",
   "mimetype": "text/x-python",
   "name": "python",
   "nbconvert_exporter": "python",
   "pygments_lexer": "ipython3",
   "version": "3.8.16"
  }
 },
 "nbformat": 4,
 "nbformat_minor": 5
}
